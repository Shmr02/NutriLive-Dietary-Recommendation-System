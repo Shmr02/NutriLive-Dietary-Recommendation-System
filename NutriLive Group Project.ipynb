{
  "cells": [
    {
      "cell_type": "markdown",
      "metadata": {
        "id": "734Bo1hE9Wcr"
      },
      "source": [
        "# **9.0 APPENDICES**"
      ]
    },
    {
      "cell_type": "markdown",
      "metadata": {
        "id": "uVJdKOZkOmSW"
      },
      "source": [
        "Link Dataset ; https://fdc.nal.usda.gov/download-datasets.html"
      ]
    },
    {
      "cell_type": "markdown",
      "metadata": {
        "id": "NYLNlFYf5Q1C"
      },
      "source": [
        "## DATA CLEANING"
      ]
    },
    {
      "cell_type": "markdown",
      "metadata": {
        "id": "1hwBYCYx5Q1E"
      },
      "source": [
        "# Food nutrient"
      ]
    },
    {
      "cell_type": "code",
      "execution_count": 1,
      "metadata": {
        "colab": {
          "base_uri": "https://localhost:8080/",
          "height": 241
        },
        "id": "4nsWq3IF5Q1E",
        "outputId": "82faf376-ace6-4920-d57f-3d84875db909"
      },
      "outputs": [
        {
          "name": "stderr",
          "output_type": "stream",
          "text": [
            "<ipython-input-1-0ef29fcd10b0>:4: DtypeWarning: Columns (9) have mixed types. Specify dtype option on import or set low_memory=False.\n",
            "  food_nutrient = pd.read_csv('food_nutrient.csv')\n"
          ]
        },
        {
          "data": {
            "application/vnd.google.colaboratory.intrinsic+json": {
              "type": "dataframe",
              "variable_name": "food_nutrient"
            },
            "text/html": [
              "\n",
              "  <div id=\"df-99ac1a15-972e-4f26-b1a7-1fe2d9514c02\" class=\"colab-df-container\">\n",
              "    <div>\n",
              "<style scoped>\n",
              "    .dataframe tbody tr th:only-of-type {\n",
              "        vertical-align: middle;\n",
              "    }\n",
              "\n",
              "    .dataframe tbody tr th {\n",
              "        vertical-align: top;\n",
              "    }\n",
              "\n",
              "    .dataframe thead th {\n",
              "        text-align: right;\n",
              "    }\n",
              "</style>\n",
              "<table border=\"1\" class=\"dataframe\">\n",
              "  <thead>\n",
              "    <tr style=\"text-align: right;\">\n",
              "      <th></th>\n",
              "      <th>id</th>\n",
              "      <th>fdc_id</th>\n",
              "      <th>nutrient_id</th>\n",
              "      <th>amount</th>\n",
              "      <th>data_points</th>\n",
              "      <th>derivation_id</th>\n",
              "      <th>min</th>\n",
              "      <th>max</th>\n",
              "      <th>median</th>\n",
              "      <th>footnote</th>\n",
              "      <th>min_year_acquired</th>\n",
              "    </tr>\n",
              "  </thead>\n",
              "  <tbody>\n",
              "    <tr>\n",
              "      <th>0</th>\n",
              "      <td>2201847</td>\n",
              "      <td>319877</td>\n",
              "      <td>1051</td>\n",
              "      <td>56.30</td>\n",
              "      <td>1.0</td>\n",
              "      <td>1.0</td>\n",
              "      <td>NaN</td>\n",
              "      <td>NaN</td>\n",
              "      <td>NaN</td>\n",
              "      <td>NaN</td>\n",
              "      <td>NaN</td>\n",
              "    </tr>\n",
              "    <tr>\n",
              "      <th>1</th>\n",
              "      <td>2201845</td>\n",
              "      <td>319877</td>\n",
              "      <td>1002</td>\n",
              "      <td>1.28</td>\n",
              "      <td>1.0</td>\n",
              "      <td>1.0</td>\n",
              "      <td>NaN</td>\n",
              "      <td>NaN</td>\n",
              "      <td>NaN</td>\n",
              "      <td>NaN</td>\n",
              "      <td>NaN</td>\n",
              "    </tr>\n",
              "    <tr>\n",
              "      <th>2</th>\n",
              "      <td>2201846</td>\n",
              "      <td>319877</td>\n",
              "      <td>1004</td>\n",
              "      <td>19.00</td>\n",
              "      <td>1.0</td>\n",
              "      <td>1.0</td>\n",
              "      <td>NaN</td>\n",
              "      <td>NaN</td>\n",
              "      <td>NaN</td>\n",
              "      <td>NaN</td>\n",
              "      <td>NaN</td>\n",
              "    </tr>\n",
              "    <tr>\n",
              "      <th>3</th>\n",
              "      <td>2201844</td>\n",
              "      <td>319877</td>\n",
              "      <td>1007</td>\n",
              "      <td>1.98</td>\n",
              "      <td>1.0</td>\n",
              "      <td>1.0</td>\n",
              "      <td>NaN</td>\n",
              "      <td>NaN</td>\n",
              "      <td>NaN</td>\n",
              "      <td>NaN</td>\n",
              "      <td>NaN</td>\n",
              "    </tr>\n",
              "    <tr>\n",
              "      <th>4</th>\n",
              "      <td>2201852</td>\n",
              "      <td>319878</td>\n",
              "      <td>1091</td>\n",
              "      <td>188.00</td>\n",
              "      <td>1.0</td>\n",
              "      <td>1.0</td>\n",
              "      <td>NaN</td>\n",
              "      <td>NaN</td>\n",
              "      <td>NaN</td>\n",
              "      <td>NaN</td>\n",
              "      <td>NaN</td>\n",
              "    </tr>\n",
              "  </tbody>\n",
              "</table>\n",
              "</div>\n",
              "    <div class=\"colab-df-buttons\">\n",
              "\n",
              "  <div class=\"colab-df-container\">\n",
              "    <button class=\"colab-df-convert\" onclick=\"convertToInteractive('df-99ac1a15-972e-4f26-b1a7-1fe2d9514c02')\"\n",
              "            title=\"Convert this dataframe to an interactive table.\"\n",
              "            style=\"display:none;\">\n",
              "\n",
              "  <svg xmlns=\"http://www.w3.org/2000/svg\" height=\"24px\" viewBox=\"0 -960 960 960\">\n",
              "    <path d=\"M120-120v-720h720v720H120Zm60-500h600v-160H180v160Zm220 220h160v-160H400v160Zm0 220h160v-160H400v160ZM180-400h160v-160H180v160Zm440 0h160v-160H620v160ZM180-180h160v-160H180v160Zm440 0h160v-160H620v160Z\"/>\n",
              "  </svg>\n",
              "    </button>\n",
              "\n",
              "  <style>\n",
              "    .colab-df-container {\n",
              "      display:flex;\n",
              "      gap: 12px;\n",
              "    }\n",
              "\n",
              "    .colab-df-convert {\n",
              "      background-color: #E8F0FE;\n",
              "      border: none;\n",
              "      border-radius: 50%;\n",
              "      cursor: pointer;\n",
              "      display: none;\n",
              "      fill: #1967D2;\n",
              "      height: 32px;\n",
              "      padding: 0 0 0 0;\n",
              "      width: 32px;\n",
              "    }\n",
              "\n",
              "    .colab-df-convert:hover {\n",
              "      background-color: #E2EBFA;\n",
              "      box-shadow: 0px 1px 2px rgba(60, 64, 67, 0.3), 0px 1px 3px 1px rgba(60, 64, 67, 0.15);\n",
              "      fill: #174EA6;\n",
              "    }\n",
              "\n",
              "    .colab-df-buttons div {\n",
              "      margin-bottom: 4px;\n",
              "    }\n",
              "\n",
              "    [theme=dark] .colab-df-convert {\n",
              "      background-color: #3B4455;\n",
              "      fill: #D2E3FC;\n",
              "    }\n",
              "\n",
              "    [theme=dark] .colab-df-convert:hover {\n",
              "      background-color: #434B5C;\n",
              "      box-shadow: 0px 1px 3px 1px rgba(0, 0, 0, 0.15);\n",
              "      filter: drop-shadow(0px 1px 2px rgba(0, 0, 0, 0.3));\n",
              "      fill: #FFFFFF;\n",
              "    }\n",
              "  </style>\n",
              "\n",
              "    <script>\n",
              "      const buttonEl =\n",
              "        document.querySelector('#df-99ac1a15-972e-4f26-b1a7-1fe2d9514c02 button.colab-df-convert');\n",
              "      buttonEl.style.display =\n",
              "        google.colab.kernel.accessAllowed ? 'block' : 'none';\n",
              "\n",
              "      async function convertToInteractive(key) {\n",
              "        const element = document.querySelector('#df-99ac1a15-972e-4f26-b1a7-1fe2d9514c02');\n",
              "        const dataTable =\n",
              "          await google.colab.kernel.invokeFunction('convertToInteractive',\n",
              "                                                    [key], {});\n",
              "        if (!dataTable) return;\n",
              "\n",
              "        const docLinkHtml = 'Like what you see? Visit the ' +\n",
              "          '<a target=\"_blank\" href=https://colab.research.google.com/notebooks/data_table.ipynb>data table notebook</a>'\n",
              "          + ' to learn more about interactive tables.';\n",
              "        element.innerHTML = '';\n",
              "        dataTable['output_type'] = 'display_data';\n",
              "        await google.colab.output.renderOutput(dataTable, element);\n",
              "        const docLink = document.createElement('div');\n",
              "        docLink.innerHTML = docLinkHtml;\n",
              "        element.appendChild(docLink);\n",
              "      }\n",
              "    </script>\n",
              "  </div>\n",
              "\n",
              "\n",
              "<div id=\"df-c6c0aefb-7fad-4c73-b8f2-a645536b2a9b\">\n",
              "  <button class=\"colab-df-quickchart\" onclick=\"quickchart('df-c6c0aefb-7fad-4c73-b8f2-a645536b2a9b')\"\n",
              "            title=\"Suggest charts\"\n",
              "            style=\"display:none;\">\n",
              "\n",
              "<svg xmlns=\"http://www.w3.org/2000/svg\" height=\"24px\"viewBox=\"0 0 24 24\"\n",
              "     width=\"24px\">\n",
              "    <g>\n",
              "        <path d=\"M19 3H5c-1.1 0-2 .9-2 2v14c0 1.1.9 2 2 2h14c1.1 0 2-.9 2-2V5c0-1.1-.9-2-2-2zM9 17H7v-7h2v7zm4 0h-2V7h2v10zm4 0h-2v-4h2v4z\"/>\n",
              "    </g>\n",
              "</svg>\n",
              "  </button>\n",
              "\n",
              "<style>\n",
              "  .colab-df-quickchart {\n",
              "      --bg-color: #E8F0FE;\n",
              "      --fill-color: #1967D2;\n",
              "      --hover-bg-color: #E2EBFA;\n",
              "      --hover-fill-color: #174EA6;\n",
              "      --disabled-fill-color: #AAA;\n",
              "      --disabled-bg-color: #DDD;\n",
              "  }\n",
              "\n",
              "  [theme=dark] .colab-df-quickchart {\n",
              "      --bg-color: #3B4455;\n",
              "      --fill-color: #D2E3FC;\n",
              "      --hover-bg-color: #434B5C;\n",
              "      --hover-fill-color: #FFFFFF;\n",
              "      --disabled-bg-color: #3B4455;\n",
              "      --disabled-fill-color: #666;\n",
              "  }\n",
              "\n",
              "  .colab-df-quickchart {\n",
              "    background-color: var(--bg-color);\n",
              "    border: none;\n",
              "    border-radius: 50%;\n",
              "    cursor: pointer;\n",
              "    display: none;\n",
              "    fill: var(--fill-color);\n",
              "    height: 32px;\n",
              "    padding: 0;\n",
              "    width: 32px;\n",
              "  }\n",
              "\n",
              "  .colab-df-quickchart:hover {\n",
              "    background-color: var(--hover-bg-color);\n",
              "    box-shadow: 0 1px 2px rgba(60, 64, 67, 0.3), 0 1px 3px 1px rgba(60, 64, 67, 0.15);\n",
              "    fill: var(--button-hover-fill-color);\n",
              "  }\n",
              "\n",
              "  .colab-df-quickchart-complete:disabled,\n",
              "  .colab-df-quickchart-complete:disabled:hover {\n",
              "    background-color: var(--disabled-bg-color);\n",
              "    fill: var(--disabled-fill-color);\n",
              "    box-shadow: none;\n",
              "  }\n",
              "\n",
              "  .colab-df-spinner {\n",
              "    border: 2px solid var(--fill-color);\n",
              "    border-color: transparent;\n",
              "    border-bottom-color: var(--fill-color);\n",
              "    animation:\n",
              "      spin 1s steps(1) infinite;\n",
              "  }\n",
              "\n",
              "  @keyframes spin {\n",
              "    0% {\n",
              "      border-color: transparent;\n",
              "      border-bottom-color: var(--fill-color);\n",
              "      border-left-color: var(--fill-color);\n",
              "    }\n",
              "    20% {\n",
              "      border-color: transparent;\n",
              "      border-left-color: var(--fill-color);\n",
              "      border-top-color: var(--fill-color);\n",
              "    }\n",
              "    30% {\n",
              "      border-color: transparent;\n",
              "      border-left-color: var(--fill-color);\n",
              "      border-top-color: var(--fill-color);\n",
              "      border-right-color: var(--fill-color);\n",
              "    }\n",
              "    40% {\n",
              "      border-color: transparent;\n",
              "      border-right-color: var(--fill-color);\n",
              "      border-top-color: var(--fill-color);\n",
              "    }\n",
              "    60% {\n",
              "      border-color: transparent;\n",
              "      border-right-color: var(--fill-color);\n",
              "    }\n",
              "    80% {\n",
              "      border-color: transparent;\n",
              "      border-right-color: var(--fill-color);\n",
              "      border-bottom-color: var(--fill-color);\n",
              "    }\n",
              "    90% {\n",
              "      border-color: transparent;\n",
              "      border-bottom-color: var(--fill-color);\n",
              "    }\n",
              "  }\n",
              "</style>\n",
              "\n",
              "  <script>\n",
              "    async function quickchart(key) {\n",
              "      const quickchartButtonEl =\n",
              "        document.querySelector('#' + key + ' button');\n",
              "      quickchartButtonEl.disabled = true;  // To prevent multiple clicks.\n",
              "      quickchartButtonEl.classList.add('colab-df-spinner');\n",
              "      try {\n",
              "        const charts = await google.colab.kernel.invokeFunction(\n",
              "            'suggestCharts', [key], {});\n",
              "      } catch (error) {\n",
              "        console.error('Error during call to suggestCharts:', error);\n",
              "      }\n",
              "      quickchartButtonEl.classList.remove('colab-df-spinner');\n",
              "      quickchartButtonEl.classList.add('colab-df-quickchart-complete');\n",
              "    }\n",
              "    (() => {\n",
              "      let quickchartButtonEl =\n",
              "        document.querySelector('#df-c6c0aefb-7fad-4c73-b8f2-a645536b2a9b button');\n",
              "      quickchartButtonEl.style.display =\n",
              "        google.colab.kernel.accessAllowed ? 'block' : 'none';\n",
              "    })();\n",
              "  </script>\n",
              "</div>\n",
              "\n",
              "    </div>\n",
              "  </div>\n"
            ],
            "text/plain": [
              "        id  fdc_id  nutrient_id  amount  data_points  derivation_id  min  max  \\\n",
              "0  2201847  319877         1051   56.30          1.0            1.0  NaN  NaN   \n",
              "1  2201845  319877         1002    1.28          1.0            1.0  NaN  NaN   \n",
              "2  2201846  319877         1004   19.00          1.0            1.0  NaN  NaN   \n",
              "3  2201844  319877         1007    1.98          1.0            1.0  NaN  NaN   \n",
              "4  2201852  319878         1091  188.00          1.0            1.0  NaN  NaN   \n",
              "\n",
              "   median footnote  min_year_acquired  \n",
              "0     NaN      NaN                NaN  \n",
              "1     NaN      NaN                NaN  \n",
              "2     NaN      NaN                NaN  \n",
              "3     NaN      NaN                NaN  \n",
              "4     NaN      NaN                NaN  "
            ]
          },
          "execution_count": 1,
          "metadata": {},
          "output_type": "execute_result"
        }
      ],
      "source": [
        "import pandas as pd\n",
        "import numpy as np\n",
        "\n",
        "food_nutrient = pd.read_csv('food_nutrient.csv')\n",
        "food_nutrient.head()"
      ]
    },
    {
      "cell_type": "code",
      "execution_count": 2,
      "metadata": {
        "colab": {
          "base_uri": "https://localhost:8080/",
          "height": 0
        },
        "id": "VqotUYCxIAwS",
        "outputId": "7ba4c947-a6b1-4a5a-f4ef-1fd8017f81b9"
      },
      "outputs": [
        {
          "name": "stdout",
          "output_type": "stream",
          "text": [
            "<class 'pandas.core.frame.DataFrame'>\n",
            "RangeIndex: 144484 entries, 0 to 144483\n",
            "Data columns (total 11 columns):\n",
            " #   Column             Non-Null Count   Dtype  \n",
            "---  ------             --------------   -----  \n",
            " 0   id                 144484 non-null  int64  \n",
            " 1   fdc_id             144484 non-null  int64  \n",
            " 2   nutrient_id        144484 non-null  int64  \n",
            " 3   amount             144457 non-null  float64\n",
            " 4   data_points        141190 non-null  float64\n",
            " 5   derivation_id      144307 non-null  float64\n",
            " 6   min                14243 non-null   float64\n",
            " 7   max                14243 non-null   float64\n",
            " 8   median             14845 non-null   float64\n",
            " 9   footnote           3 non-null       object \n",
            " 10  min_year_acquired  29085 non-null   float64\n",
            "dtypes: float64(7), int64(3), object(1)\n",
            "memory usage: 12.1+ MB\n"
          ]
        }
      ],
      "source": [
        "food_nutrient.info()"
      ]
    },
    {
      "cell_type": "markdown",
      "metadata": {
        "id": "w78Rg0Wn5Q1F"
      },
      "source": [
        "Check missing and duplicate values"
      ]
    },
    {
      "cell_type": "code",
      "execution_count": 3,
      "metadata": {
        "colab": {
          "base_uri": "https://localhost:8080/",
          "height": 429
        },
        "id": "ze1kQ9jM5Q1F",
        "outputId": "668c6fe5-63a4-4c6f-bddf-a366a8368864"
      },
      "outputs": [
        {
          "data": {
            "text/html": [
              "<div>\n",
              "<style scoped>\n",
              "    .dataframe tbody tr th:only-of-type {\n",
              "        vertical-align: middle;\n",
              "    }\n",
              "\n",
              "    .dataframe tbody tr th {\n",
              "        vertical-align: top;\n",
              "    }\n",
              "\n",
              "    .dataframe thead th {\n",
              "        text-align: right;\n",
              "    }\n",
              "</style>\n",
              "<table border=\"1\" class=\"dataframe\">\n",
              "  <thead>\n",
              "    <tr style=\"text-align: right;\">\n",
              "      <th></th>\n",
              "      <th>0</th>\n",
              "    </tr>\n",
              "  </thead>\n",
              "  <tbody>\n",
              "    <tr>\n",
              "      <th>id</th>\n",
              "      <td>0</td>\n",
              "    </tr>\n",
              "    <tr>\n",
              "      <th>fdc_id</th>\n",
              "      <td>0</td>\n",
              "    </tr>\n",
              "    <tr>\n",
              "      <th>nutrient_id</th>\n",
              "      <td>0</td>\n",
              "    </tr>\n",
              "    <tr>\n",
              "      <th>amount</th>\n",
              "      <td>27</td>\n",
              "    </tr>\n",
              "    <tr>\n",
              "      <th>data_points</th>\n",
              "      <td>3294</td>\n",
              "    </tr>\n",
              "    <tr>\n",
              "      <th>derivation_id</th>\n",
              "      <td>177</td>\n",
              "    </tr>\n",
              "    <tr>\n",
              "      <th>min</th>\n",
              "      <td>130241</td>\n",
              "    </tr>\n",
              "    <tr>\n",
              "      <th>max</th>\n",
              "      <td>130241</td>\n",
              "    </tr>\n",
              "    <tr>\n",
              "      <th>median</th>\n",
              "      <td>129639</td>\n",
              "    </tr>\n",
              "    <tr>\n",
              "      <th>footnote</th>\n",
              "      <td>144481</td>\n",
              "    </tr>\n",
              "    <tr>\n",
              "      <th>min_year_acquired</th>\n",
              "      <td>115399</td>\n",
              "    </tr>\n",
              "  </tbody>\n",
              "</table>\n",
              "</div><br><label><b>dtype:</b> int64</label>"
            ],
            "text/plain": [
              "id                        0\n",
              "fdc_id                    0\n",
              "nutrient_id               0\n",
              "amount                   27\n",
              "data_points            3294\n",
              "derivation_id           177\n",
              "min                  130241\n",
              "max                  130241\n",
              "median               129639\n",
              "footnote             144481\n",
              "min_year_acquired    115399\n",
              "dtype: int64"
            ]
          },
          "execution_count": 3,
          "metadata": {},
          "output_type": "execute_result"
        }
      ],
      "source": [
        "food_nutrient.isnull().sum()"
      ]
    },
    {
      "cell_type": "code",
      "execution_count": 4,
      "metadata": {
        "colab": {
          "base_uri": "https://localhost:8080/",
          "height": 0
        },
        "id": "c8RLx7OA5Q1F",
        "outputId": "467728b9-9a61-45de-be2b-1148de40c5fb"
      },
      "outputs": [
        {
          "data": {
            "text/plain": [
              "0"
            ]
          },
          "execution_count": 4,
          "metadata": {},
          "output_type": "execute_result"
        }
      ],
      "source": [
        "food_nutrient.duplicated().sum()"
      ]
    },
    {
      "cell_type": "markdown",
      "metadata": {
        "id": "t4YInqov5Q1F"
      },
      "source": [
        "Drop and remove row"
      ]
    },
    {
      "cell_type": "code",
      "execution_count": 5,
      "metadata": {
        "id": "9oGnoto-5Q1F"
      },
      "outputs": [],
      "source": [
        "columns_to_drop = ['min', 'median', 'max', 'footnote', 'min_year_acquired']\n",
        "columns_to_drop.extend(columns_to_drop)\n",
        "\n",
        "# Drop the columns\n",
        "food_nutrient = food_nutrient.drop(columns=columns_to_drop)"
      ]
    },
    {
      "cell_type": "code",
      "execution_count": 6,
      "metadata": {
        "id": "1S-HrBpU5Q1F"
      },
      "outputs": [],
      "source": [
        "food_nutrient = food_nutrient.dropna(subset=['amount', 'data_points', 'derivation_id'])"
      ]
    },
    {
      "cell_type": "code",
      "execution_count": 7,
      "metadata": {
        "colab": {
          "base_uri": "https://localhost:8080/",
          "height": 272
        },
        "id": "rZZqv7D55Q1G",
        "outputId": "75a57fc2-127d-4549-c241-edd50fb6269a"
      },
      "outputs": [
        {
          "data": {
            "text/html": [
              "<div>\n",
              "<style scoped>\n",
              "    .dataframe tbody tr th:only-of-type {\n",
              "        vertical-align: middle;\n",
              "    }\n",
              "\n",
              "    .dataframe tbody tr th {\n",
              "        vertical-align: top;\n",
              "    }\n",
              "\n",
              "    .dataframe thead th {\n",
              "        text-align: right;\n",
              "    }\n",
              "</style>\n",
              "<table border=\"1\" class=\"dataframe\">\n",
              "  <thead>\n",
              "    <tr style=\"text-align: right;\">\n",
              "      <th></th>\n",
              "      <th>0</th>\n",
              "    </tr>\n",
              "  </thead>\n",
              "  <tbody>\n",
              "    <tr>\n",
              "      <th>id</th>\n",
              "      <td>0</td>\n",
              "    </tr>\n",
              "    <tr>\n",
              "      <th>fdc_id</th>\n",
              "      <td>0</td>\n",
              "    </tr>\n",
              "    <tr>\n",
              "      <th>nutrient_id</th>\n",
              "      <td>0</td>\n",
              "    </tr>\n",
              "    <tr>\n",
              "      <th>amount</th>\n",
              "      <td>0</td>\n",
              "    </tr>\n",
              "    <tr>\n",
              "      <th>data_points</th>\n",
              "      <td>0</td>\n",
              "    </tr>\n",
              "    <tr>\n",
              "      <th>derivation_id</th>\n",
              "      <td>0</td>\n",
              "    </tr>\n",
              "  </tbody>\n",
              "</table>\n",
              "</div><br><label><b>dtype:</b> int64</label>"
            ],
            "text/plain": [
              "id               0\n",
              "fdc_id           0\n",
              "nutrient_id      0\n",
              "amount           0\n",
              "data_points      0\n",
              "derivation_id    0\n",
              "dtype: int64"
            ]
          },
          "execution_count": 7,
          "metadata": {},
          "output_type": "execute_result"
        }
      ],
      "source": [
        "food_nutrient.isnull().sum()"
      ]
    },
    {
      "cell_type": "markdown",
      "metadata": {
        "id": "qLSgPcfD5Q1G"
      },
      "source": [
        "Convert data"
      ]
    },
    {
      "cell_type": "code",
      "execution_count": 8,
      "metadata": {
        "id": "lbG7jWvs5Q1G"
      },
      "outputs": [],
      "source": [
        "#ensure data types are consistent and convert to numeric\n",
        "food_nutrient['id'] = pd.to_numeric(food_nutrient['id'], errors='coerce')\n",
        "food_nutrient['fdc_id'] = pd.to_numeric(food_nutrient['fdc_id'], errors='coerce')\n",
        "food_nutrient['nutrient_id'] = pd.to_numeric(food_nutrient['nutrient_id'], errors='coerce')\n",
        "\n",
        "food_nutrient = food_nutrient.dropna(subset=['id', 'fdc_id', 'nutrient_id'])\n",
        "\n",
        "food_nutrient['data_points'] = food_nutrient['data_points'].astype(str)\n",
        "\n",
        "#clean the data_points column\n",
        "food_nutrient['data_points'] = food_nutrient['data_points'].str.replace('[,\"]', '', regex=True)\n",
        "food_nutrient['data_points'] = pd.to_numeric(food_nutrient['data_points'], errors='coerce')\n",
        "\n",
        "#convert to integers\n",
        "food_nutrient = food_nutrient.astype({\n",
        "    'id': 'int64',\n",
        "    'fdc_id': 'int64',\n",
        "    'nutrient_id': 'int64',\n",
        "    'amount': 'float64',\n",
        "    'data_points': 'Int64',\n",
        "    'derivation_id': 'int64'\n",
        "})"
      ]
    },
    {
      "cell_type": "markdown",
      "metadata": {
        "id": "DDbytyoj5Q1G"
      },
      "source": [
        "Save cleaned data to csv"
      ]
    },
    {
      "cell_type": "code",
      "execution_count": 9,
      "metadata": {
        "colab": {
          "base_uri": "https://localhost:8080/",
          "height": 0
        },
        "id": "_pzeCf_-5Q1G",
        "outputId": "fbde1929-3426-42a3-e306-85c3562ac629"
      },
      "outputs": [
        {
          "name": "stdout",
          "output_type": "stream",
          "text": [
            "<class 'pandas.core.frame.DataFrame'>\n",
            "Index: 141040 entries, 0 to 144483\n",
            "Data columns (total 6 columns):\n",
            " #   Column         Non-Null Count   Dtype  \n",
            "---  ------         --------------   -----  \n",
            " 0   id             141040 non-null  int64  \n",
            " 1   fdc_id         141040 non-null  int64  \n",
            " 2   nutrient_id    141040 non-null  int64  \n",
            " 3   amount         141040 non-null  float64\n",
            " 4   data_points    141040 non-null  Int64  \n",
            " 5   derivation_id  141040 non-null  int64  \n",
            "dtypes: Int64(1), float64(1), int64(4)\n",
            "memory usage: 7.7 MB\n"
          ]
        }
      ],
      "source": [
        "output_path = 'cleaned_food_nutrient.csv'\n",
        "food_nutrient.to_csv(output_path, index=False)\n",
        "\n",
        "final_info = food_nutrient.info()"
      ]
    },
    {
      "cell_type": "markdown",
      "metadata": {
        "id": "oo9g9cYu5Q1G"
      },
      "source": [
        "# Food"
      ]
    },
    {
      "cell_type": "code",
      "execution_count": 10,
      "metadata": {
        "colab": {
          "base_uri": "https://localhost:8080/",
          "height": 206
        },
        "id": "BQkagZP55Q1G",
        "outputId": "0b9dfec5-9ea1-4788-eecd-c36e632dd3e7"
      },
      "outputs": [
        {
          "data": {
            "application/vnd.google.colaboratory.intrinsic+json": {
              "summary": "{\n  \"name\": \"food\",\n  \"rows\": 63975,\n  \"fields\": [\n    {\n      \"column\": \"fdc_id\",\n      \"properties\": {\n        \"dtype\": \"number\",\n        \"std\": 886783,\n        \"min\": 319874,\n        \"max\": 2687762,\n        \"num_unique_values\": 63975,\n        \"samples\": [\n          1755309,\n          2261203,\n          320018\n        ],\n        \"semantic_type\": \"\",\n        \"description\": \"\"\n      }\n    },\n    {\n      \"column\": \"data_type\",\n      \"properties\": {\n        \"dtype\": \"category\",\n        \"num_unique_values\": 5,\n        \"samples\": [\n          \"market_acquisition\",\n          \"agricultural_acquisition\",\n          \"sub_sample_food\"\n        ],\n        \"semantic_type\": \"\",\n        \"description\": \"\"\n      }\n    },\n    {\n      \"column\": \"description\",\n      \"properties\": {\n        \"dtype\": \"category\",\n        \"num_unique_values\": 11663,\n        \"samples\": [\n          \"Mozzarella, low-moisture, part-skim, KRAFT (IN1) - NFY120CYE\",\n          \"Peaches, Raw, Pass 2, Region 2, n/a, Yes, Niacin - NFY010BSA\",\n          \"Proximates, Beef, T-Bone Steak, lean only, cooked, animal 13, upperchoice\"\n        ],\n        \"semantic_type\": \"\",\n        \"description\": \"\"\n      }\n    },\n    {\n      \"column\": \"food_category_id\",\n      \"properties\": {\n        \"dtype\": \"number\",\n        \"std\": 5.648381125190546,\n        \"min\": 1.0,\n        \"max\": 25.0,\n        \"num_unique_values\": 18,\n        \"samples\": [\n          16.0,\n          1.0,\n          9.0\n        ],\n        \"semantic_type\": \"\",\n        \"description\": \"\"\n      }\n    },\n    {\n      \"column\": \"publication_date\",\n      \"properties\": {\n        \"dtype\": \"category\",\n        \"num_unique_values\": 60,\n        \"samples\": [\n          \"2019-04-01\",\n          \"2021-04-23\",\n          \"2022-11-16\"\n        ],\n        \"semantic_type\": \"\",\n        \"description\": \"\"\n      }\n    }\n  ]\n}",
              "type": "dataframe",
              "variable_name": "food"
            },
            "text/html": [
              "\n",
              "  <div id=\"df-8c670868-1d69-4718-9f16-d5406b58fb72\" class=\"colab-df-container\">\n",
              "    <div>\n",
              "<style scoped>\n",
              "    .dataframe tbody tr th:only-of-type {\n",
              "        vertical-align: middle;\n",
              "    }\n",
              "\n",
              "    .dataframe tbody tr th {\n",
              "        vertical-align: top;\n",
              "    }\n",
              "\n",
              "    .dataframe thead th {\n",
              "        text-align: right;\n",
              "    }\n",
              "</style>\n",
              "<table border=\"1\" class=\"dataframe\">\n",
              "  <thead>\n",
              "    <tr style=\"text-align: right;\">\n",
              "      <th></th>\n",
              "      <th>fdc_id</th>\n",
              "      <th>data_type</th>\n",
              "      <th>description</th>\n",
              "      <th>food_category_id</th>\n",
              "      <th>publication_date</th>\n",
              "    </tr>\n",
              "  </thead>\n",
              "  <tbody>\n",
              "    <tr>\n",
              "      <th>0</th>\n",
              "      <td>319874</td>\n",
              "      <td>sample_food</td>\n",
              "      <td>HUMMUS, SABRA CLASSIC</td>\n",
              "      <td>16.0</td>\n",
              "      <td>2019-04-01</td>\n",
              "    </tr>\n",
              "    <tr>\n",
              "      <th>1</th>\n",
              "      <td>319875</td>\n",
              "      <td>market_acquisition</td>\n",
              "      <td>HUMMUS, SABRA CLASSIC</td>\n",
              "      <td>16.0</td>\n",
              "      <td>2019-04-01</td>\n",
              "    </tr>\n",
              "    <tr>\n",
              "      <th>2</th>\n",
              "      <td>319876</td>\n",
              "      <td>market_acquisition</td>\n",
              "      <td>HUMMUS, SABRA CLASSIC</td>\n",
              "      <td>16.0</td>\n",
              "      <td>2019-04-01</td>\n",
              "    </tr>\n",
              "    <tr>\n",
              "      <th>3</th>\n",
              "      <td>319877</td>\n",
              "      <td>sub_sample_food</td>\n",
              "      <td>Hummus</td>\n",
              "      <td>16.0</td>\n",
              "      <td>2019-04-01</td>\n",
              "    </tr>\n",
              "    <tr>\n",
              "      <th>4</th>\n",
              "      <td>319878</td>\n",
              "      <td>sub_sample_food</td>\n",
              "      <td>Hummus</td>\n",
              "      <td>16.0</td>\n",
              "      <td>2019-04-01</td>\n",
              "    </tr>\n",
              "  </tbody>\n",
              "</table>\n",
              "</div>\n",
              "    <div class=\"colab-df-buttons\">\n",
              "\n",
              "  <div class=\"colab-df-container\">\n",
              "    <button class=\"colab-df-convert\" onclick=\"convertToInteractive('df-8c670868-1d69-4718-9f16-d5406b58fb72')\"\n",
              "            title=\"Convert this dataframe to an interactive table.\"\n",
              "            style=\"display:none;\">\n",
              "\n",
              "  <svg xmlns=\"http://www.w3.org/2000/svg\" height=\"24px\" viewBox=\"0 -960 960 960\">\n",
              "    <path d=\"M120-120v-720h720v720H120Zm60-500h600v-160H180v160Zm220 220h160v-160H400v160Zm0 220h160v-160H400v160ZM180-400h160v-160H180v160Zm440 0h160v-160H620v160ZM180-180h160v-160H180v160Zm440 0h160v-160H620v160Z\"/>\n",
              "  </svg>\n",
              "    </button>\n",
              "\n",
              "  <style>\n",
              "    .colab-df-container {\n",
              "      display:flex;\n",
              "      gap: 12px;\n",
              "    }\n",
              "\n",
              "    .colab-df-convert {\n",
              "      background-color: #E8F0FE;\n",
              "      border: none;\n",
              "      border-radius: 50%;\n",
              "      cursor: pointer;\n",
              "      display: none;\n",
              "      fill: #1967D2;\n",
              "      height: 32px;\n",
              "      padding: 0 0 0 0;\n",
              "      width: 32px;\n",
              "    }\n",
              "\n",
              "    .colab-df-convert:hover {\n",
              "      background-color: #E2EBFA;\n",
              "      box-shadow: 0px 1px 2px rgba(60, 64, 67, 0.3), 0px 1px 3px 1px rgba(60, 64, 67, 0.15);\n",
              "      fill: #174EA6;\n",
              "    }\n",
              "\n",
              "    .colab-df-buttons div {\n",
              "      margin-bottom: 4px;\n",
              "    }\n",
              "\n",
              "    [theme=dark] .colab-df-convert {\n",
              "      background-color: #3B4455;\n",
              "      fill: #D2E3FC;\n",
              "    }\n",
              "\n",
              "    [theme=dark] .colab-df-convert:hover {\n",
              "      background-color: #434B5C;\n",
              "      box-shadow: 0px 1px 3px 1px rgba(0, 0, 0, 0.15);\n",
              "      filter: drop-shadow(0px 1px 2px rgba(0, 0, 0, 0.3));\n",
              "      fill: #FFFFFF;\n",
              "    }\n",
              "  </style>\n",
              "\n",
              "    <script>\n",
              "      const buttonEl =\n",
              "        document.querySelector('#df-8c670868-1d69-4718-9f16-d5406b58fb72 button.colab-df-convert');\n",
              "      buttonEl.style.display =\n",
              "        google.colab.kernel.accessAllowed ? 'block' : 'none';\n",
              "\n",
              "      async function convertToInteractive(key) {\n",
              "        const element = document.querySelector('#df-8c670868-1d69-4718-9f16-d5406b58fb72');\n",
              "        const dataTable =\n",
              "          await google.colab.kernel.invokeFunction('convertToInteractive',\n",
              "                                                    [key], {});\n",
              "        if (!dataTable) return;\n",
              "\n",
              "        const docLinkHtml = 'Like what you see? Visit the ' +\n",
              "          '<a target=\"_blank\" href=https://colab.research.google.com/notebooks/data_table.ipynb>data table notebook</a>'\n",
              "          + ' to learn more about interactive tables.';\n",
              "        element.innerHTML = '';\n",
              "        dataTable['output_type'] = 'display_data';\n",
              "        await google.colab.output.renderOutput(dataTable, element);\n",
              "        const docLink = document.createElement('div');\n",
              "        docLink.innerHTML = docLinkHtml;\n",
              "        element.appendChild(docLink);\n",
              "      }\n",
              "    </script>\n",
              "  </div>\n",
              "\n",
              "\n",
              "<div id=\"df-b93c8524-972b-4430-911c-4a681a914e37\">\n",
              "  <button class=\"colab-df-quickchart\" onclick=\"quickchart('df-b93c8524-972b-4430-911c-4a681a914e37')\"\n",
              "            title=\"Suggest charts\"\n",
              "            style=\"display:none;\">\n",
              "\n",
              "<svg xmlns=\"http://www.w3.org/2000/svg\" height=\"24px\"viewBox=\"0 0 24 24\"\n",
              "     width=\"24px\">\n",
              "    <g>\n",
              "        <path d=\"M19 3H5c-1.1 0-2 .9-2 2v14c0 1.1.9 2 2 2h14c1.1 0 2-.9 2-2V5c0-1.1-.9-2-2-2zM9 17H7v-7h2v7zm4 0h-2V7h2v10zm4 0h-2v-4h2v4z\"/>\n",
              "    </g>\n",
              "</svg>\n",
              "  </button>\n",
              "\n",
              "<style>\n",
              "  .colab-df-quickchart {\n",
              "      --bg-color: #E8F0FE;\n",
              "      --fill-color: #1967D2;\n",
              "      --hover-bg-color: #E2EBFA;\n",
              "      --hover-fill-color: #174EA6;\n",
              "      --disabled-fill-color: #AAA;\n",
              "      --disabled-bg-color: #DDD;\n",
              "  }\n",
              "\n",
              "  [theme=dark] .colab-df-quickchart {\n",
              "      --bg-color: #3B4455;\n",
              "      --fill-color: #D2E3FC;\n",
              "      --hover-bg-color: #434B5C;\n",
              "      --hover-fill-color: #FFFFFF;\n",
              "      --disabled-bg-color: #3B4455;\n",
              "      --disabled-fill-color: #666;\n",
              "  }\n",
              "\n",
              "  .colab-df-quickchart {\n",
              "    background-color: var(--bg-color);\n",
              "    border: none;\n",
              "    border-radius: 50%;\n",
              "    cursor: pointer;\n",
              "    display: none;\n",
              "    fill: var(--fill-color);\n",
              "    height: 32px;\n",
              "    padding: 0;\n",
              "    width: 32px;\n",
              "  }\n",
              "\n",
              "  .colab-df-quickchart:hover {\n",
              "    background-color: var(--hover-bg-color);\n",
              "    box-shadow: 0 1px 2px rgba(60, 64, 67, 0.3), 0 1px 3px 1px rgba(60, 64, 67, 0.15);\n",
              "    fill: var(--button-hover-fill-color);\n",
              "  }\n",
              "\n",
              "  .colab-df-quickchart-complete:disabled,\n",
              "  .colab-df-quickchart-complete:disabled:hover {\n",
              "    background-color: var(--disabled-bg-color);\n",
              "    fill: var(--disabled-fill-color);\n",
              "    box-shadow: none;\n",
              "  }\n",
              "\n",
              "  .colab-df-spinner {\n",
              "    border: 2px solid var(--fill-color);\n",
              "    border-color: transparent;\n",
              "    border-bottom-color: var(--fill-color);\n",
              "    animation:\n",
              "      spin 1s steps(1) infinite;\n",
              "  }\n",
              "\n",
              "  @keyframes spin {\n",
              "    0% {\n",
              "      border-color: transparent;\n",
              "      border-bottom-color: var(--fill-color);\n",
              "      border-left-color: var(--fill-color);\n",
              "    }\n",
              "    20% {\n",
              "      border-color: transparent;\n",
              "      border-left-color: var(--fill-color);\n",
              "      border-top-color: var(--fill-color);\n",
              "    }\n",
              "    30% {\n",
              "      border-color: transparent;\n",
              "      border-left-color: var(--fill-color);\n",
              "      border-top-color: var(--fill-color);\n",
              "      border-right-color: var(--fill-color);\n",
              "    }\n",
              "    40% {\n",
              "      border-color: transparent;\n",
              "      border-right-color: var(--fill-color);\n",
              "      border-top-color: var(--fill-color);\n",
              "    }\n",
              "    60% {\n",
              "      border-color: transparent;\n",
              "      border-right-color: var(--fill-color);\n",
              "    }\n",
              "    80% {\n",
              "      border-color: transparent;\n",
              "      border-right-color: var(--fill-color);\n",
              "      border-bottom-color: var(--fill-color);\n",
              "    }\n",
              "    90% {\n",
              "      border-color: transparent;\n",
              "      border-bottom-color: var(--fill-color);\n",
              "    }\n",
              "  }\n",
              "</style>\n",
              "\n",
              "  <script>\n",
              "    async function quickchart(key) {\n",
              "      const quickchartButtonEl =\n",
              "        document.querySelector('#' + key + ' button');\n",
              "      quickchartButtonEl.disabled = true;  // To prevent multiple clicks.\n",
              "      quickchartButtonEl.classList.add('colab-df-spinner');\n",
              "      try {\n",
              "        const charts = await google.colab.kernel.invokeFunction(\n",
              "            'suggestCharts', [key], {});\n",
              "      } catch (error) {\n",
              "        console.error('Error during call to suggestCharts:', error);\n",
              "      }\n",
              "      quickchartButtonEl.classList.remove('colab-df-spinner');\n",
              "      quickchartButtonEl.classList.add('colab-df-quickchart-complete');\n",
              "    }\n",
              "    (() => {\n",
              "      let quickchartButtonEl =\n",
              "        document.querySelector('#df-b93c8524-972b-4430-911c-4a681a914e37 button');\n",
              "      quickchartButtonEl.style.display =\n",
              "        google.colab.kernel.accessAllowed ? 'block' : 'none';\n",
              "    })();\n",
              "  </script>\n",
              "</div>\n",
              "\n",
              "    </div>\n",
              "  </div>\n"
            ],
            "text/plain": [
              "   fdc_id           data_type            description  food_category_id  \\\n",
              "0  319874         sample_food  HUMMUS, SABRA CLASSIC              16.0   \n",
              "1  319875  market_acquisition  HUMMUS, SABRA CLASSIC              16.0   \n",
              "2  319876  market_acquisition  HUMMUS, SABRA CLASSIC              16.0   \n",
              "3  319877     sub_sample_food                 Hummus              16.0   \n",
              "4  319878     sub_sample_food                 Hummus              16.0   \n",
              "\n",
              "  publication_date  \n",
              "0       2019-04-01  \n",
              "1       2019-04-01  \n",
              "2       2019-04-01  \n",
              "3       2019-04-01  \n",
              "4       2019-04-01  "
            ]
          },
          "execution_count": 10,
          "metadata": {},
          "output_type": "execute_result"
        }
      ],
      "source": [
        "food = pd.read_csv(\"food.csv\")\n",
        "food.head()"
      ]
    },
    {
      "cell_type": "code",
      "execution_count": 11,
      "metadata": {
        "colab": {
          "base_uri": "https://localhost:8080/",
          "height": 0
        },
        "id": "OBhRCerEIGy2",
        "outputId": "ed44de5b-71d6-4e66-86b9-0719b3155416"
      },
      "outputs": [
        {
          "name": "stdout",
          "output_type": "stream",
          "text": [
            "<class 'pandas.core.frame.DataFrame'>\n",
            "RangeIndex: 63975 entries, 0 to 63974\n",
            "Data columns (total 5 columns):\n",
            " #   Column            Non-Null Count  Dtype  \n",
            "---  ------            --------------  -----  \n",
            " 0   fdc_id            63975 non-null  int64  \n",
            " 1   data_type         63975 non-null  object \n",
            " 2   description       63967 non-null  object \n",
            " 3   food_category_id  62053 non-null  float64\n",
            " 4   publication_date  63975 non-null  object \n",
            "dtypes: float64(1), int64(1), object(3)\n",
            "memory usage: 2.4+ MB\n"
          ]
        }
      ],
      "source": [
        "food.info()"
      ]
    },
    {
      "cell_type": "markdown",
      "metadata": {
        "id": "CHj5aWjk5Q1H"
      },
      "source": [
        "Check missing and duplicated data"
      ]
    },
    {
      "cell_type": "code",
      "execution_count": 12,
      "metadata": {
        "colab": {
          "base_uri": "https://localhost:8080/",
          "height": 241
        },
        "id": "XTIXqjPa5Q1H",
        "outputId": "da7b9a11-ce8b-4f07-b54c-ce489befe5d9"
      },
      "outputs": [
        {
          "data": {
            "text/html": [
              "<div>\n",
              "<style scoped>\n",
              "    .dataframe tbody tr th:only-of-type {\n",
              "        vertical-align: middle;\n",
              "    }\n",
              "\n",
              "    .dataframe tbody tr th {\n",
              "        vertical-align: top;\n",
              "    }\n",
              "\n",
              "    .dataframe thead th {\n",
              "        text-align: right;\n",
              "    }\n",
              "</style>\n",
              "<table border=\"1\" class=\"dataframe\">\n",
              "  <thead>\n",
              "    <tr style=\"text-align: right;\">\n",
              "      <th></th>\n",
              "      <th>0</th>\n",
              "    </tr>\n",
              "  </thead>\n",
              "  <tbody>\n",
              "    <tr>\n",
              "      <th>fdc_id</th>\n",
              "      <td>0</td>\n",
              "    </tr>\n",
              "    <tr>\n",
              "      <th>data_type</th>\n",
              "      <td>0</td>\n",
              "    </tr>\n",
              "    <tr>\n",
              "      <th>description</th>\n",
              "      <td>8</td>\n",
              "    </tr>\n",
              "    <tr>\n",
              "      <th>food_category_id</th>\n",
              "      <td>1922</td>\n",
              "    </tr>\n",
              "    <tr>\n",
              "      <th>publication_date</th>\n",
              "      <td>0</td>\n",
              "    </tr>\n",
              "  </tbody>\n",
              "</table>\n",
              "</div><br><label><b>dtype:</b> int64</label>"
            ],
            "text/plain": [
              "fdc_id                 0\n",
              "data_type              0\n",
              "description            8\n",
              "food_category_id    1922\n",
              "publication_date       0\n",
              "dtype: int64"
            ]
          },
          "execution_count": 12,
          "metadata": {},
          "output_type": "execute_result"
        }
      ],
      "source": [
        "food.isnull().sum()"
      ]
    },
    {
      "cell_type": "code",
      "execution_count": 13,
      "metadata": {
        "colab": {
          "base_uri": "https://localhost:8080/",
          "height": 0
        },
        "id": "T-U0DRa-5Q1H",
        "outputId": "6cc960d3-ec2d-4457-e611-f56028f27d24"
      },
      "outputs": [
        {
          "data": {
            "text/plain": [
              "0"
            ]
          },
          "execution_count": 13,
          "metadata": {},
          "output_type": "execute_result"
        }
      ],
      "source": [
        "food.duplicated().sum()"
      ]
    },
    {
      "cell_type": "markdown",
      "metadata": {
        "id": "UvJrr7dJ5Q1H"
      },
      "source": [
        "Remove Missing Value"
      ]
    },
    {
      "cell_type": "code",
      "execution_count": 14,
      "metadata": {
        "id": "k1zvvd9t5Q1H"
      },
      "outputs": [],
      "source": [
        "food = food.dropna()"
      ]
    },
    {
      "cell_type": "code",
      "execution_count": 15,
      "metadata": {
        "colab": {
          "base_uri": "https://localhost:8080/",
          "height": 241
        },
        "id": "D9QJHgYO5Q1H",
        "outputId": "1fbcb361-4773-4e47-957d-1f0a2f78ef01"
      },
      "outputs": [
        {
          "data": {
            "text/html": [
              "<div>\n",
              "<style scoped>\n",
              "    .dataframe tbody tr th:only-of-type {\n",
              "        vertical-align: middle;\n",
              "    }\n",
              "\n",
              "    .dataframe tbody tr th {\n",
              "        vertical-align: top;\n",
              "    }\n",
              "\n",
              "    .dataframe thead th {\n",
              "        text-align: right;\n",
              "    }\n",
              "</style>\n",
              "<table border=\"1\" class=\"dataframe\">\n",
              "  <thead>\n",
              "    <tr style=\"text-align: right;\">\n",
              "      <th></th>\n",
              "      <th>0</th>\n",
              "    </tr>\n",
              "  </thead>\n",
              "  <tbody>\n",
              "    <tr>\n",
              "      <th>fdc_id</th>\n",
              "      <td>0</td>\n",
              "    </tr>\n",
              "    <tr>\n",
              "      <th>data_type</th>\n",
              "      <td>0</td>\n",
              "    </tr>\n",
              "    <tr>\n",
              "      <th>description</th>\n",
              "      <td>0</td>\n",
              "    </tr>\n",
              "    <tr>\n",
              "      <th>food_category_id</th>\n",
              "      <td>0</td>\n",
              "    </tr>\n",
              "    <tr>\n",
              "      <th>publication_date</th>\n",
              "      <td>0</td>\n",
              "    </tr>\n",
              "  </tbody>\n",
              "</table>\n",
              "</div><br><label><b>dtype:</b> int64</label>"
            ],
            "text/plain": [
              "fdc_id              0\n",
              "data_type           0\n",
              "description         0\n",
              "food_category_id    0\n",
              "publication_date    0\n",
              "dtype: int64"
            ]
          },
          "execution_count": 15,
          "metadata": {},
          "output_type": "execute_result"
        }
      ],
      "source": [
        "food.isnull().sum()"
      ]
    },
    {
      "cell_type": "markdown",
      "metadata": {
        "id": "506lyFRJ5Q1H"
      },
      "source": [
        "Drop unnecessary column"
      ]
    },
    {
      "cell_type": "code",
      "execution_count": 16,
      "metadata": {
        "id": "xoKc6WZP5Q1H"
      },
      "outputs": [],
      "source": [
        "columns_to_drop = ['publication_date']\n",
        "food = food.drop(columns=columns_to_drop)"
      ]
    },
    {
      "cell_type": "markdown",
      "metadata": {
        "id": "cNA889vE5Q1H"
      },
      "source": [
        "Save cleaned data to csv"
      ]
    },
    {
      "cell_type": "code",
      "execution_count": 17,
      "metadata": {
        "colab": {
          "base_uri": "https://localhost:8080/",
          "height": 0
        },
        "id": "crcAEmO25Q1H",
        "outputId": "df3d1b92-1557-4d74-ee6a-c04e8a796345"
      },
      "outputs": [
        {
          "name": "stdout",
          "output_type": "stream",
          "text": [
            "<class 'pandas.core.frame.DataFrame'>\n",
            "Index: 62045 entries, 0 to 63974\n",
            "Data columns (total 4 columns):\n",
            " #   Column            Non-Null Count  Dtype  \n",
            "---  ------            --------------  -----  \n",
            " 0   fdc_id            62045 non-null  int64  \n",
            " 1   data_type         62045 non-null  object \n",
            " 2   description       62045 non-null  object \n",
            " 3   food_category_id  62045 non-null  float64\n",
            "dtypes: float64(1), int64(1), object(2)\n",
            "memory usage: 2.4+ MB\n"
          ]
        }
      ],
      "source": [
        "cleaned_file_path = 'Cleaned_food.csv'\n",
        "food.to_csv(cleaned_file_path, index=False)\n",
        "\n",
        "final_info = food.info()"
      ]
    },
    {
      "cell_type": "markdown",
      "metadata": {
        "id": "LPtTUNp15Q1I"
      },
      "source": [
        "# Food portion"
      ]
    },
    {
      "cell_type": "code",
      "execution_count": 18,
      "metadata": {
        "colab": {
          "base_uri": "https://localhost:8080/",
          "height": 206
        },
        "id": "CUdxX45y5Q1I",
        "outputId": "0459a164-d935-44d2-b9ee-8493805b81a1"
      },
      "outputs": [
        {
          "data": {
            "application/vnd.google.colaboratory.intrinsic+json": {
              "summary": "{\n  \"name\": \"food_portion\",\n  \"rows\": 10678,\n  \"fields\": [\n    {\n      \"column\": \"id\",\n      \"properties\": {\n        \"dtype\": \"number\",\n        \"std\": 40340,\n        \"min\": 118702,\n        \"max\": 267795,\n        \"num_unique_values\": 10678,\n        \"samples\": [\n          193332,\n          121736,\n          192544\n        ],\n        \"semantic_type\": \"\",\n        \"description\": \"\"\n      }\n    },\n    {\n      \"column\": \"fdc_id\",\n      \"properties\": {\n        \"dtype\": \"number\",\n        \"std\": 216281,\n        \"min\": 319875,\n        \"max\": 1105314,\n        \"num_unique_values\": 2317,\n        \"samples\": [\n          330748,\n          325733,\n          321465\n        ],\n        \"semantic_type\": \"\",\n        \"description\": \"\"\n      }\n    },\n    {\n      \"column\": \"seq_num\",\n      \"properties\": {\n        \"dtype\": \"number\",\n        \"std\": 1.4793724354916784,\n        \"min\": 1.0,\n        \"max\": 9.0,\n        \"num_unique_values\": 9,\n        \"samples\": [\n          8.0,\n          2.0,\n          6.0\n        ],\n        \"semantic_type\": \"\",\n        \"description\": \"\"\n      }\n    },\n    {\n      \"column\": \"amount\",\n      \"properties\": {\n        \"dtype\": \"number\",\n        \"std\": 4.178302503886311,\n        \"min\": 0.2,\n        \"max\": 100.0,\n        \"num_unique_values\": 8,\n        \"samples\": [\n          1.0,\n          10.0,\n          2.0\n        ],\n        \"semantic_type\": \"\",\n        \"description\": \"\"\n      }\n    },\n    {\n      \"column\": \"measure_unit_id\",\n      \"properties\": {\n        \"dtype\": \"number\",\n        \"std\": 610,\n        \"min\": 1000,\n        \"max\": 9999,\n        \"num_unique_values\": 37,\n        \"samples\": [\n          1049,\n          9999,\n          1046\n        ],\n        \"semantic_type\": \"\",\n        \"description\": \"\"\n      }\n    },\n    {\n      \"column\": \"portion_description\",\n      \"properties\": {\n        \"dtype\": \"category\",\n        \"num_unique_values\": 1,\n        \"samples\": [\n          \"shredded\"\n        ],\n        \"semantic_type\": \"\",\n        \"description\": \"\"\n      }\n    },\n    {\n      \"column\": \"modifier\",\n      \"properties\": {\n        \"dtype\": \"category\",\n        \"num_unique_values\": 60,\n        \"samples\": [\n          \"raw\"\n        ],\n        \"semantic_type\": \"\",\n        \"description\": \"\"\n      }\n    },\n    {\n      \"column\": \"gram_weight\",\n      \"properties\": {\n        \"dtype\": \"number\",\n        \"std\": 89.62275962508832,\n        \"min\": 0.9,\n        \"max\": 1340.0,\n        \"num_unique_values\": 1154,\n        \"samples\": [\n          758.0\n        ],\n        \"semantic_type\": \"\",\n        \"description\": \"\"\n      }\n    },\n    {\n      \"column\": \"data_points\",\n      \"properties\": {\n        \"dtype\": \"number\",\n        \"std\": 16.669948369592028,\n        \"min\": 1.0,\n        \"max\": 826.0,\n        \"num_unique_values\": 55,\n        \"samples\": [\n          52.0\n        ],\n        \"semantic_type\": \"\",\n        \"description\": \"\"\n      }\n    },\n    {\n      \"column\": \"footnote\",\n      \"properties\": {\n        \"dtype\": \"number\",\n        \"std\": null,\n        \"min\": null,\n        \"max\": null,\n        \"num_unique_values\": 0,\n        \"samples\": [],\n        \"semantic_type\": \"\",\n        \"description\": \"\"\n      }\n    },\n    {\n      \"column\": \"min_year_acquired\",\n      \"properties\": {\n        \"dtype\": \"number\",\n        \"std\": 6.82714531656391,\n        \"min\": 2000.0,\n        \"max\": 2019.0,\n        \"num_unique_values\": 16,\n        \"samples\": [],\n        \"semantic_type\": \"\",\n        \"description\": \"\"\n      }\n    }\n  ]\n}",
              "type": "dataframe",
              "variable_name": "food_portion"
            },
            "text/html": [
              "\n",
              "  <div id=\"df-8e4eb752-264f-4005-b269-b07a97ec754f\" class=\"colab-df-container\">\n",
              "    <div>\n",
              "<style scoped>\n",
              "    .dataframe tbody tr th:only-of-type {\n",
              "        vertical-align: middle;\n",
              "    }\n",
              "\n",
              "    .dataframe tbody tr th {\n",
              "        vertical-align: top;\n",
              "    }\n",
              "\n",
              "    .dataframe thead th {\n",
              "        text-align: right;\n",
              "    }\n",
              "</style>\n",
              "<table border=\"1\" class=\"dataframe\">\n",
              "  <thead>\n",
              "    <tr style=\"text-align: right;\">\n",
              "      <th></th>\n",
              "      <th>id</th>\n",
              "      <th>fdc_id</th>\n",
              "      <th>seq_num</th>\n",
              "      <th>amount</th>\n",
              "      <th>measure_unit_id</th>\n",
              "      <th>portion_description</th>\n",
              "      <th>modifier</th>\n",
              "      <th>gram_weight</th>\n",
              "      <th>data_points</th>\n",
              "      <th>footnote</th>\n",
              "      <th>min_year_acquired</th>\n",
              "    </tr>\n",
              "  </thead>\n",
              "  <tbody>\n",
              "    <tr>\n",
              "      <th>0</th>\n",
              "      <td>118702</td>\n",
              "      <td>319875</td>\n",
              "      <td>NaN</td>\n",
              "      <td>2.0</td>\n",
              "      <td>1001</td>\n",
              "      <td>NaN</td>\n",
              "      <td>NaN</td>\n",
              "      <td>35.8</td>\n",
              "      <td>1.0</td>\n",
              "      <td>NaN</td>\n",
              "      <td>NaN</td>\n",
              "    </tr>\n",
              "    <tr>\n",
              "      <th>1</th>\n",
              "      <td>118703</td>\n",
              "      <td>319880</td>\n",
              "      <td>NaN</td>\n",
              "      <td>2.0</td>\n",
              "      <td>1001</td>\n",
              "      <td>NaN</td>\n",
              "      <td>NaN</td>\n",
              "      <td>36.2</td>\n",
              "      <td>1.0</td>\n",
              "      <td>NaN</td>\n",
              "      <td>NaN</td>\n",
              "    </tr>\n",
              "    <tr>\n",
              "      <th>2</th>\n",
              "      <td>118704</td>\n",
              "      <td>319881</td>\n",
              "      <td>NaN</td>\n",
              "      <td>2.0</td>\n",
              "      <td>1001</td>\n",
              "      <td>NaN</td>\n",
              "      <td>NaN</td>\n",
              "      <td>33.4</td>\n",
              "      <td>1.0</td>\n",
              "      <td>NaN</td>\n",
              "      <td>NaN</td>\n",
              "    </tr>\n",
              "    <tr>\n",
              "      <th>3</th>\n",
              "      <td>118705</td>\n",
              "      <td>319886</td>\n",
              "      <td>NaN</td>\n",
              "      <td>2.0</td>\n",
              "      <td>1001</td>\n",
              "      <td>NaN</td>\n",
              "      <td>NaN</td>\n",
              "      <td>33.2</td>\n",
              "      <td>1.0</td>\n",
              "      <td>NaN</td>\n",
              "      <td>NaN</td>\n",
              "    </tr>\n",
              "    <tr>\n",
              "      <th>4</th>\n",
              "      <td>118706</td>\n",
              "      <td>319889</td>\n",
              "      <td>NaN</td>\n",
              "      <td>2.0</td>\n",
              "      <td>1001</td>\n",
              "      <td>NaN</td>\n",
              "      <td>NaN</td>\n",
              "      <td>34.6</td>\n",
              "      <td>1.0</td>\n",
              "      <td>NaN</td>\n",
              "      <td>NaN</td>\n",
              "    </tr>\n",
              "  </tbody>\n",
              "</table>\n",
              "</div>\n",
              "    <div class=\"colab-df-buttons\">\n",
              "\n",
              "  <div class=\"colab-df-container\">\n",
              "    <button class=\"colab-df-convert\" onclick=\"convertToInteractive('df-8e4eb752-264f-4005-b269-b07a97ec754f')\"\n",
              "            title=\"Convert this dataframe to an interactive table.\"\n",
              "            style=\"display:none;\">\n",
              "\n",
              "  <svg xmlns=\"http://www.w3.org/2000/svg\" height=\"24px\" viewBox=\"0 -960 960 960\">\n",
              "    <path d=\"M120-120v-720h720v720H120Zm60-500h600v-160H180v160Zm220 220h160v-160H400v160Zm0 220h160v-160H400v160ZM180-400h160v-160H180v160Zm440 0h160v-160H620v160ZM180-180h160v-160H180v160Zm440 0h160v-160H620v160Z\"/>\n",
              "  </svg>\n",
              "    </button>\n",
              "\n",
              "  <style>\n",
              "    .colab-df-container {\n",
              "      display:flex;\n",
              "      gap: 12px;\n",
              "    }\n",
              "\n",
              "    .colab-df-convert {\n",
              "      background-color: #E8F0FE;\n",
              "      border: none;\n",
              "      border-radius: 50%;\n",
              "      cursor: pointer;\n",
              "      display: none;\n",
              "      fill: #1967D2;\n",
              "      height: 32px;\n",
              "      padding: 0 0 0 0;\n",
              "      width: 32px;\n",
              "    }\n",
              "\n",
              "    .colab-df-convert:hover {\n",
              "      background-color: #E2EBFA;\n",
              "      box-shadow: 0px 1px 2px rgba(60, 64, 67, 0.3), 0px 1px 3px 1px rgba(60, 64, 67, 0.15);\n",
              "      fill: #174EA6;\n",
              "    }\n",
              "\n",
              "    .colab-df-buttons div {\n",
              "      margin-bottom: 4px;\n",
              "    }\n",
              "\n",
              "    [theme=dark] .colab-df-convert {\n",
              "      background-color: #3B4455;\n",
              "      fill: #D2E3FC;\n",
              "    }\n",
              "\n",
              "    [theme=dark] .colab-df-convert:hover {\n",
              "      background-color: #434B5C;\n",
              "      box-shadow: 0px 1px 3px 1px rgba(0, 0, 0, 0.15);\n",
              "      filter: drop-shadow(0px 1px 2px rgba(0, 0, 0, 0.3));\n",
              "      fill: #FFFFFF;\n",
              "    }\n",
              "  </style>\n",
              "\n",
              "    <script>\n",
              "      const buttonEl =\n",
              "        document.querySelector('#df-8e4eb752-264f-4005-b269-b07a97ec754f button.colab-df-convert');\n",
              "      buttonEl.style.display =\n",
              "        google.colab.kernel.accessAllowed ? 'block' : 'none';\n",
              "\n",
              "      async function convertToInteractive(key) {\n",
              "        const element = document.querySelector('#df-8e4eb752-264f-4005-b269-b07a97ec754f');\n",
              "        const dataTable =\n",
              "          await google.colab.kernel.invokeFunction('convertToInteractive',\n",
              "                                                    [key], {});\n",
              "        if (!dataTable) return;\n",
              "\n",
              "        const docLinkHtml = 'Like what you see? Visit the ' +\n",
              "          '<a target=\"_blank\" href=https://colab.research.google.com/notebooks/data_table.ipynb>data table notebook</a>'\n",
              "          + ' to learn more about interactive tables.';\n",
              "        element.innerHTML = '';\n",
              "        dataTable['output_type'] = 'display_data';\n",
              "        await google.colab.output.renderOutput(dataTable, element);\n",
              "        const docLink = document.createElement('div');\n",
              "        docLink.innerHTML = docLinkHtml;\n",
              "        element.appendChild(docLink);\n",
              "      }\n",
              "    </script>\n",
              "  </div>\n",
              "\n",
              "\n",
              "<div id=\"df-8ba209c7-cd7f-4f2b-b5e2-3f0e2dfc3ea3\">\n",
              "  <button class=\"colab-df-quickchart\" onclick=\"quickchart('df-8ba209c7-cd7f-4f2b-b5e2-3f0e2dfc3ea3')\"\n",
              "            title=\"Suggest charts\"\n",
              "            style=\"display:none;\">\n",
              "\n",
              "<svg xmlns=\"http://www.w3.org/2000/svg\" height=\"24px\"viewBox=\"0 0 24 24\"\n",
              "     width=\"24px\">\n",
              "    <g>\n",
              "        <path d=\"M19 3H5c-1.1 0-2 .9-2 2v14c0 1.1.9 2 2 2h14c1.1 0 2-.9 2-2V5c0-1.1-.9-2-2-2zM9 17H7v-7h2v7zm4 0h-2V7h2v10zm4 0h-2v-4h2v4z\"/>\n",
              "    </g>\n",
              "</svg>\n",
              "  </button>\n",
              "\n",
              "<style>\n",
              "  .colab-df-quickchart {\n",
              "      --bg-color: #E8F0FE;\n",
              "      --fill-color: #1967D2;\n",
              "      --hover-bg-color: #E2EBFA;\n",
              "      --hover-fill-color: #174EA6;\n",
              "      --disabled-fill-color: #AAA;\n",
              "      --disabled-bg-color: #DDD;\n",
              "  }\n",
              "\n",
              "  [theme=dark] .colab-df-quickchart {\n",
              "      --bg-color: #3B4455;\n",
              "      --fill-color: #D2E3FC;\n",
              "      --hover-bg-color: #434B5C;\n",
              "      --hover-fill-color: #FFFFFF;\n",
              "      --disabled-bg-color: #3B4455;\n",
              "      --disabled-fill-color: #666;\n",
              "  }\n",
              "\n",
              "  .colab-df-quickchart {\n",
              "    background-color: var(--bg-color);\n",
              "    border: none;\n",
              "    border-radius: 50%;\n",
              "    cursor: pointer;\n",
              "    display: none;\n",
              "    fill: var(--fill-color);\n",
              "    height: 32px;\n",
              "    padding: 0;\n",
              "    width: 32px;\n",
              "  }\n",
              "\n",
              "  .colab-df-quickchart:hover {\n",
              "    background-color: var(--hover-bg-color);\n",
              "    box-shadow: 0 1px 2px rgba(60, 64, 67, 0.3), 0 1px 3px 1px rgba(60, 64, 67, 0.15);\n",
              "    fill: var(--button-hover-fill-color);\n",
              "  }\n",
              "\n",
              "  .colab-df-quickchart-complete:disabled,\n",
              "  .colab-df-quickchart-complete:disabled:hover {\n",
              "    background-color: var(--disabled-bg-color);\n",
              "    fill: var(--disabled-fill-color);\n",
              "    box-shadow: none;\n",
              "  }\n",
              "\n",
              "  .colab-df-spinner {\n",
              "    border: 2px solid var(--fill-color);\n",
              "    border-color: transparent;\n",
              "    border-bottom-color: var(--fill-color);\n",
              "    animation:\n",
              "      spin 1s steps(1) infinite;\n",
              "  }\n",
              "\n",
              "  @keyframes spin {\n",
              "    0% {\n",
              "      border-color: transparent;\n",
              "      border-bottom-color: var(--fill-color);\n",
              "      border-left-color: var(--fill-color);\n",
              "    }\n",
              "    20% {\n",
              "      border-color: transparent;\n",
              "      border-left-color: var(--fill-color);\n",
              "      border-top-color: var(--fill-color);\n",
              "    }\n",
              "    30% {\n",
              "      border-color: transparent;\n",
              "      border-left-color: var(--fill-color);\n",
              "      border-top-color: var(--fill-color);\n",
              "      border-right-color: var(--fill-color);\n",
              "    }\n",
              "    40% {\n",
              "      border-color: transparent;\n",
              "      border-right-color: var(--fill-color);\n",
              "      border-top-color: var(--fill-color);\n",
              "    }\n",
              "    60% {\n",
              "      border-color: transparent;\n",
              "      border-right-color: var(--fill-color);\n",
              "    }\n",
              "    80% {\n",
              "      border-color: transparent;\n",
              "      border-right-color: var(--fill-color);\n",
              "      border-bottom-color: var(--fill-color);\n",
              "    }\n",
              "    90% {\n",
              "      border-color: transparent;\n",
              "      border-bottom-color: var(--fill-color);\n",
              "    }\n",
              "  }\n",
              "</style>\n",
              "\n",
              "  <script>\n",
              "    async function quickchart(key) {\n",
              "      const quickchartButtonEl =\n",
              "        document.querySelector('#' + key + ' button');\n",
              "      quickchartButtonEl.disabled = true;  // To prevent multiple clicks.\n",
              "      quickchartButtonEl.classList.add('colab-df-spinner');\n",
              "      try {\n",
              "        const charts = await google.colab.kernel.invokeFunction(\n",
              "            'suggestCharts', [key], {});\n",
              "      } catch (error) {\n",
              "        console.error('Error during call to suggestCharts:', error);\n",
              "      }\n",
              "      quickchartButtonEl.classList.remove('colab-df-spinner');\n",
              "      quickchartButtonEl.classList.add('colab-df-quickchart-complete');\n",
              "    }\n",
              "    (() => {\n",
              "      let quickchartButtonEl =\n",
              "        document.querySelector('#df-8ba209c7-cd7f-4f2b-b5e2-3f0e2dfc3ea3 button');\n",
              "      quickchartButtonEl.style.display =\n",
              "        google.colab.kernel.accessAllowed ? 'block' : 'none';\n",
              "    })();\n",
              "  </script>\n",
              "</div>\n",
              "\n",
              "    </div>\n",
              "  </div>\n"
            ],
            "text/plain": [
              "       id  fdc_id  seq_num  amount  measure_unit_id portion_description  \\\n",
              "0  118702  319875      NaN     2.0             1001                 NaN   \n",
              "1  118703  319880      NaN     2.0             1001                 NaN   \n",
              "2  118704  319881      NaN     2.0             1001                 NaN   \n",
              "3  118705  319886      NaN     2.0             1001                 NaN   \n",
              "4  118706  319889      NaN     2.0             1001                 NaN   \n",
              "\n",
              "  modifier  gram_weight  data_points  footnote  min_year_acquired  \n",
              "0      NaN         35.8          1.0       NaN                NaN  \n",
              "1      NaN         36.2          1.0       NaN                NaN  \n",
              "2      NaN         33.4          1.0       NaN                NaN  \n",
              "3      NaN         33.2          1.0       NaN                NaN  \n",
              "4      NaN         34.6          1.0       NaN                NaN  "
            ]
          },
          "execution_count": 18,
          "metadata": {},
          "output_type": "execute_result"
        }
      ],
      "source": [
        "food_portion = pd.read_csv('food_portion.csv')\n",
        "food_portion.head()"
      ]
    },
    {
      "cell_type": "code",
      "execution_count": 19,
      "metadata": {
        "colab": {
          "base_uri": "https://localhost:8080/",
          "height": 0
        },
        "id": "EBmXBCUgIKJO",
        "outputId": "4311c243-87d5-44e3-90b4-0103570f1895"
      },
      "outputs": [
        {
          "name": "stdout",
          "output_type": "stream",
          "text": [
            "<class 'pandas.core.frame.DataFrame'>\n",
            "RangeIndex: 10678 entries, 0 to 10677\n",
            "Data columns (total 11 columns):\n",
            " #   Column               Non-Null Count  Dtype  \n",
            "---  ------               --------------  -----  \n",
            " 0   id                   10678 non-null  int64  \n",
            " 1   fdc_id               10678 non-null  int64  \n",
            " 2   seq_num              223 non-null    float64\n",
            " 3   amount               10678 non-null  float64\n",
            " 4   measure_unit_id      10678 non-null  int64  \n",
            " 5   portion_description  1 non-null      object \n",
            " 6   modifier             8714 non-null   object \n",
            " 7   gram_weight          10678 non-null  float64\n",
            " 8   data_points          10609 non-null  float64\n",
            " 9   footnote             0 non-null      float64\n",
            " 10  min_year_acquired    187 non-null    float64\n",
            "dtypes: float64(6), int64(3), object(2)\n",
            "memory usage: 917.8+ KB\n"
          ]
        }
      ],
      "source": [
        "food_portion.info()"
      ]
    },
    {
      "cell_type": "markdown",
      "metadata": {
        "id": "aqpW6Zft5Q1J"
      },
      "source": [
        "Check missing and duplicate values"
      ]
    },
    {
      "cell_type": "code",
      "execution_count": 20,
      "metadata": {
        "colab": {
          "base_uri": "https://localhost:8080/",
          "height": 429
        },
        "id": "SJC8f8R55Q1J",
        "outputId": "a7c60761-1c7b-4d12-a97a-975c2152b563"
      },
      "outputs": [
        {
          "data": {
            "text/html": [
              "<div>\n",
              "<style scoped>\n",
              "    .dataframe tbody tr th:only-of-type {\n",
              "        vertical-align: middle;\n",
              "    }\n",
              "\n",
              "    .dataframe tbody tr th {\n",
              "        vertical-align: top;\n",
              "    }\n",
              "\n",
              "    .dataframe thead th {\n",
              "        text-align: right;\n",
              "    }\n",
              "</style>\n",
              "<table border=\"1\" class=\"dataframe\">\n",
              "  <thead>\n",
              "    <tr style=\"text-align: right;\">\n",
              "      <th></th>\n",
              "      <th>0</th>\n",
              "    </tr>\n",
              "  </thead>\n",
              "  <tbody>\n",
              "    <tr>\n",
              "      <th>id</th>\n",
              "      <td>0</td>\n",
              "    </tr>\n",
              "    <tr>\n",
              "      <th>fdc_id</th>\n",
              "      <td>0</td>\n",
              "    </tr>\n",
              "    <tr>\n",
              "      <th>seq_num</th>\n",
              "      <td>10455</td>\n",
              "    </tr>\n",
              "    <tr>\n",
              "      <th>amount</th>\n",
              "      <td>0</td>\n",
              "    </tr>\n",
              "    <tr>\n",
              "      <th>measure_unit_id</th>\n",
              "      <td>0</td>\n",
              "    </tr>\n",
              "    <tr>\n",
              "      <th>portion_description</th>\n",
              "      <td>10677</td>\n",
              "    </tr>\n",
              "    <tr>\n",
              "      <th>modifier</th>\n",
              "      <td>1964</td>\n",
              "    </tr>\n",
              "    <tr>\n",
              "      <th>gram_weight</th>\n",
              "      <td>0</td>\n",
              "    </tr>\n",
              "    <tr>\n",
              "      <th>data_points</th>\n",
              "      <td>69</td>\n",
              "    </tr>\n",
              "    <tr>\n",
              "      <th>footnote</th>\n",
              "      <td>10678</td>\n",
              "    </tr>\n",
              "    <tr>\n",
              "      <th>min_year_acquired</th>\n",
              "      <td>10491</td>\n",
              "    </tr>\n",
              "  </tbody>\n",
              "</table>\n",
              "</div><br><label><b>dtype:</b> int64</label>"
            ],
            "text/plain": [
              "id                         0\n",
              "fdc_id                     0\n",
              "seq_num                10455\n",
              "amount                     0\n",
              "measure_unit_id            0\n",
              "portion_description    10677\n",
              "modifier                1964\n",
              "gram_weight                0\n",
              "data_points               69\n",
              "footnote               10678\n",
              "min_year_acquired      10491\n",
              "dtype: int64"
            ]
          },
          "execution_count": 20,
          "metadata": {},
          "output_type": "execute_result"
        }
      ],
      "source": [
        "food_portion.isnull().sum()"
      ]
    },
    {
      "cell_type": "code",
      "execution_count": 21,
      "metadata": {
        "colab": {
          "base_uri": "https://localhost:8080/",
          "height": 0
        },
        "id": "1-9J4Rhe5Q1J",
        "outputId": "fcab6366-83b4-4e1b-da0f-e36dcaf79513"
      },
      "outputs": [
        {
          "data": {
            "text/plain": [
              "0"
            ]
          },
          "execution_count": 21,
          "metadata": {},
          "output_type": "execute_result"
        }
      ],
      "source": [
        "food_portion.duplicated().sum()"
      ]
    },
    {
      "cell_type": "code",
      "execution_count": 22,
      "metadata": {
        "id": "cVw7CkQ65Q1J"
      },
      "outputs": [],
      "source": [
        "columns_to_drop = ['seq_num', 'portion_description', 'footnote', 'min_year_acquired']\n",
        "columns_to_drop.extend(columns_to_drop)\n",
        "\n",
        "food_portion = food_portion.drop(columns=columns_to_drop)"
      ]
    },
    {
      "cell_type": "code",
      "execution_count": 23,
      "metadata": {
        "colab": {
          "base_uri": "https://localhost:8080/",
          "height": 0
        },
        "id": "_0p_Pk9r5Q1J",
        "outputId": "f5967c79-8844-4bd6-e433-156f716e26c9"
      },
      "outputs": [
        {
          "name": "stdout",
          "output_type": "stream",
          "text": [
            "<class 'pandas.core.frame.DataFrame'>\n",
            "RangeIndex: 10678 entries, 0 to 10677\n",
            "Data columns (total 7 columns):\n",
            " #   Column           Non-Null Count  Dtype  \n",
            "---  ------           --------------  -----  \n",
            " 0   id               10678 non-null  int64  \n",
            " 1   fdc_id           10678 non-null  int64  \n",
            " 2   amount           10678 non-null  float64\n",
            " 3   measure_unit_id  10678 non-null  int64  \n",
            " 4   modifier         8714 non-null   object \n",
            " 5   gram_weight      10678 non-null  float64\n",
            " 6   data_points      10609 non-null  float64\n",
            "dtypes: float64(3), int64(3), object(1)\n",
            "memory usage: 584.1+ KB\n"
          ]
        }
      ],
      "source": [
        "food_portion.info()"
      ]
    },
    {
      "cell_type": "code",
      "execution_count": 24,
      "metadata": {
        "colab": {
          "base_uri": "https://localhost:8080/",
          "height": 304
        },
        "id": "5sAGiKAC5Q1J",
        "outputId": "c8581848-65b6-44b0-e985-69643a17fac2"
      },
      "outputs": [
        {
          "data": {
            "text/html": [
              "<div>\n",
              "<style scoped>\n",
              "    .dataframe tbody tr th:only-of-type {\n",
              "        vertical-align: middle;\n",
              "    }\n",
              "\n",
              "    .dataframe tbody tr th {\n",
              "        vertical-align: top;\n",
              "    }\n",
              "\n",
              "    .dataframe thead th {\n",
              "        text-align: right;\n",
              "    }\n",
              "</style>\n",
              "<table border=\"1\" class=\"dataframe\">\n",
              "  <thead>\n",
              "    <tr style=\"text-align: right;\">\n",
              "      <th></th>\n",
              "      <th>0</th>\n",
              "    </tr>\n",
              "  </thead>\n",
              "  <tbody>\n",
              "    <tr>\n",
              "      <th>id</th>\n",
              "      <td>0</td>\n",
              "    </tr>\n",
              "    <tr>\n",
              "      <th>fdc_id</th>\n",
              "      <td>0</td>\n",
              "    </tr>\n",
              "    <tr>\n",
              "      <th>amount</th>\n",
              "      <td>0</td>\n",
              "    </tr>\n",
              "    <tr>\n",
              "      <th>measure_unit_id</th>\n",
              "      <td>0</td>\n",
              "    </tr>\n",
              "    <tr>\n",
              "      <th>modifier</th>\n",
              "      <td>1964</td>\n",
              "    </tr>\n",
              "    <tr>\n",
              "      <th>gram_weight</th>\n",
              "      <td>0</td>\n",
              "    </tr>\n",
              "    <tr>\n",
              "      <th>data_points</th>\n",
              "      <td>69</td>\n",
              "    </tr>\n",
              "  </tbody>\n",
              "</table>\n",
              "</div><br><label><b>dtype:</b> int64</label>"
            ],
            "text/plain": [
              "id                    0\n",
              "fdc_id                0\n",
              "amount                0\n",
              "measure_unit_id       0\n",
              "modifier           1964\n",
              "gram_weight           0\n",
              "data_points          69\n",
              "dtype: int64"
            ]
          },
          "execution_count": 24,
          "metadata": {},
          "output_type": "execute_result"
        }
      ],
      "source": [
        "food_portion.isnull().sum()"
      ]
    },
    {
      "cell_type": "markdown",
      "metadata": {
        "id": "bo7MGjky5Q1J"
      },
      "source": [
        "Replace missing values with NA (modifier and data_points column)"
      ]
    },
    {
      "cell_type": "code",
      "execution_count": 25,
      "metadata": {
        "id": "lG9AtS1i5Q1J"
      },
      "outputs": [],
      "source": [
        "food_portion = food_portion.fillna('NA')"
      ]
    },
    {
      "cell_type": "code",
      "execution_count": 26,
      "metadata": {
        "colab": {
          "base_uri": "https://localhost:8080/",
          "height": 0
        },
        "id": "x5PNrgMj5Q1J",
        "outputId": "7bc3a4c3-def2-466a-bc94-19f8684842b8"
      },
      "outputs": [
        {
          "name": "stdout",
          "output_type": "stream",
          "text": [
            "Series([], dtype: int64)\n"
          ]
        }
      ],
      "source": [
        "missing_values = food_portion.isnull().sum()\n",
        "print(missing_values[missing_values > 0])"
      ]
    },
    {
      "cell_type": "code",
      "execution_count": 27,
      "metadata": {
        "colab": {
          "base_uri": "https://localhost:8080/",
          "height": 0
        },
        "id": "4svAX8FB5Q1K",
        "outputId": "c93238dd-10e1-44a7-ba72-3d5a0479ed17"
      },
      "outputs": [
        {
          "name": "stdout",
          "output_type": "stream",
          "text": [
            "       id  fdc_id  amount  measure_unit_id modifier  gram_weight data_points\n",
            "0  118702  319875     2.0             1001       NA         35.8         1.0\n",
            "1  118703  319880     2.0             1001       NA         36.2         1.0\n",
            "2  118704  319881     2.0             1001       NA         33.4         1.0\n",
            "3  118705  319886     2.0             1001       NA         33.2         1.0\n",
            "4  118706  319889     2.0             1001       NA         34.6         1.0\n"
          ]
        }
      ],
      "source": [
        "print(food_portion.head())"
      ]
    },
    {
      "cell_type": "code",
      "execution_count": 28,
      "metadata": {
        "colab": {
          "base_uri": "https://localhost:8080/",
          "height": 0
        },
        "id": "op6GsWvq5Q1K",
        "outputId": "712e365b-b117-4ab0-8eb6-aa0192938d3b"
      },
      "outputs": [
        {
          "name": "stdout",
          "output_type": "stream",
          "text": [
            "<class 'pandas.core.frame.DataFrame'>\n",
            "RangeIndex: 10678 entries, 0 to 10677\n",
            "Data columns (total 7 columns):\n",
            " #   Column           Non-Null Count  Dtype  \n",
            "---  ------           --------------  -----  \n",
            " 0   id               10678 non-null  int64  \n",
            " 1   fdc_id           10678 non-null  int64  \n",
            " 2   amount           10678 non-null  float64\n",
            " 3   measure_unit_id  10678 non-null  int64  \n",
            " 4   modifier         10678 non-null  object \n",
            " 5   gram_weight      10678 non-null  float64\n",
            " 6   data_points      10678 non-null  object \n",
            "dtypes: float64(2), int64(3), object(2)\n",
            "memory usage: 584.1+ KB\n"
          ]
        }
      ],
      "source": [
        "output_path = 'cleaned_food_portion.csv'\n",
        "food_portion.to_csv(output_path, index=False)\n",
        "\n",
        "food_portion.info()"
      ]
    },
    {
      "cell_type": "markdown",
      "metadata": {
        "id": "brL5HWg2_N8M"
      },
      "source": [
        "# Combining the dataset"
      ]
    },
    {
      "cell_type": "code",
      "execution_count": 29,
      "metadata": {
        "colab": {
          "base_uri": "https://localhost:8080/",
          "height": 0
        },
        "id": "vvk6SjFWMCTh",
        "outputId": "5b2548b9-daa9-4876-8cce-35f3ba5383ce"
      },
      "outputs": [
        {
          "name": "stdout",
          "output_type": "stream",
          "text": [
            "Final dataset shape: (62045, 5)\n",
            "   fdc_id           data_type  food_category_id  gram_weight      amount\n",
            "0  319874         sample_food              16.0   132.795446   60.455744\n",
            "1  319875  market_acquisition              16.0    35.800000   60.455744\n",
            "2  319876  market_acquisition              16.0   132.795446   60.455744\n",
            "3  319877     sub_sample_food              16.0   132.795446   19.640000\n",
            "4  319878     sub_sample_food              16.0   132.795446  120.813333\n"
          ]
        }
      ],
      "source": [
        "import pandas as pd\n",
        "\n",
        "food = pd.read_csv('Cleaned_food.csv')\n",
        "food_portion = pd.read_csv('cleaned_food_portion.csv')\n",
        "food_nutrient = pd.read_csv('cleaned_food_nutrient.csv')\n",
        "\n",
        "#convert 'modifier' column to string type\n",
        "food_portion['modifier'] = food_portion['modifier'].astype(str)\n",
        "\n",
        "#aggregate food portion details\n",
        "portion_summary = food_portion.groupby('fdc_id').agg({\n",
        "    'modifier': ', '.join,\n",
        "    'gram_weight': 'mean'\n",
        "}).reset_index()\n",
        "\n",
        "#merge food with portion\n",
        "combined_data = food.merge(portion_summary, on='fdc_id', how='left')\n",
        "\n",
        "#assuming 'fdc_id' in food_nutrient\n",
        "food_nutrient_summary = food_nutrient.groupby('fdc_id').agg({\n",
        "    'amount': 'mean'\n",
        "}).reset_index()\n",
        "\n",
        "#merge food with food nutrient\n",
        "combined_data = combined_data.merge(food_nutrient_summary, on='fdc_id', how='left')\n",
        "\n",
        "for column in combined_data.columns:\n",
        "    if combined_data[column].dtype in ['float64', 'int64']:\n",
        "        combined_data[column] = combined_data[column].fillna(combined_data[column].mean())\n",
        "    else:\n",
        "        combined_data[column] = combined_data[column].fillna(\"Unknown\")\n",
        "\n",
        "columns_to_drop = ['description', 'modifier']\n",
        "columns_to_drop.extend(columns_to_drop)\n",
        "combined_data = combined_data.drop(columns=columns_to_drop)\n",
        "\n",
        "#save combined data\n",
        "combined_data.to_csv('combined_dataset.csv', index=False)\n",
        "\n",
        "print(f\"Final dataset shape: {combined_data.shape}\")\n",
        "print(combined_data.head())\n"
      ]
    },
    {
      "cell_type": "markdown",
      "metadata": {
        "id": "bznze001P-dc"
      },
      "source": [
        "Check Missing value of the combined dataset"
      ]
    },
    {
      "cell_type": "code",
      "execution_count": 30,
      "metadata": {
        "colab": {
          "base_uri": "https://localhost:8080/",
          "height": 241
        },
        "id": "4olpg-nQP9j6",
        "outputId": "06f4ef68-031f-43e9-a750-938aac690b37"
      },
      "outputs": [
        {
          "data": {
            "text/html": [
              "<div>\n",
              "<style scoped>\n",
              "    .dataframe tbody tr th:only-of-type {\n",
              "        vertical-align: middle;\n",
              "    }\n",
              "\n",
              "    .dataframe tbody tr th {\n",
              "        vertical-align: top;\n",
              "    }\n",
              "\n",
              "    .dataframe thead th {\n",
              "        text-align: right;\n",
              "    }\n",
              "</style>\n",
              "<table border=\"1\" class=\"dataframe\">\n",
              "  <thead>\n",
              "    <tr style=\"text-align: right;\">\n",
              "      <th></th>\n",
              "      <th>0</th>\n",
              "    </tr>\n",
              "  </thead>\n",
              "  <tbody>\n",
              "    <tr>\n",
              "      <th>fdc_id</th>\n",
              "      <td>0</td>\n",
              "    </tr>\n",
              "    <tr>\n",
              "      <th>data_type</th>\n",
              "      <td>0</td>\n",
              "    </tr>\n",
              "    <tr>\n",
              "      <th>food_category_id</th>\n",
              "      <td>0</td>\n",
              "    </tr>\n",
              "    <tr>\n",
              "      <th>gram_weight</th>\n",
              "      <td>0</td>\n",
              "    </tr>\n",
              "    <tr>\n",
              "      <th>amount</th>\n",
              "      <td>0</td>\n",
              "    </tr>\n",
              "  </tbody>\n",
              "</table>\n",
              "</div><br><label><b>dtype:</b> int64</label>"
            ],
            "text/plain": [
              "fdc_id              0\n",
              "data_type           0\n",
              "food_category_id    0\n",
              "gram_weight         0\n",
              "amount              0\n",
              "dtype: int64"
            ]
          },
          "execution_count": 30,
          "metadata": {},
          "output_type": "execute_result"
        }
      ],
      "source": [
        "combined_data.isnull().sum()"
      ]
    },
    {
      "cell_type": "code",
      "execution_count": 31,
      "metadata": {
        "colab": {
          "base_uri": "https://localhost:8080/",
          "height": 0
        },
        "id": "ZD9ah-7AQPO3",
        "outputId": "a39b3d92-1eb7-449b-8f48-f49ed5624fa9"
      },
      "outputs": [
        {
          "data": {
            "text/plain": [
              "0"
            ]
          },
          "execution_count": 31,
          "metadata": {},
          "output_type": "execute_result"
        }
      ],
      "source": [
        "combined_data.duplicated().sum()"
      ]
    },
    {
      "cell_type": "code",
      "execution_count": 32,
      "metadata": {
        "colab": {
          "base_uri": "https://localhost:8080/",
          "height": 0
        },
        "id": "6NmA_YWsSsFc",
        "outputId": "a5b04df2-986a-444d-fa93-4cd445c21895"
      },
      "outputs": [
        {
          "name": "stdout",
          "output_type": "stream",
          "text": [
            "   fdc_id  data_type  food_category_id  gram_weight      amount\n",
            "0  319874          3              16.0   132.795446   60.455744\n",
            "1  319875          2              16.0    35.800000   60.455744\n",
            "2  319876          2              16.0   132.795446   60.455744\n",
            "3  319877          4              16.0   132.795446   19.640000\n",
            "4  319878          4              16.0   132.795446  120.813333\n"
          ]
        }
      ],
      "source": [
        "import pandas as pd\n",
        "from sklearn.preprocessing import LabelEncoder\n",
        "\n",
        "label_encoder = LabelEncoder()\n",
        "\n",
        "#fit and transform\n",
        "combined_data['data_type'] = label_encoder.fit_transform(combined_data['data_type'])\n",
        "\n",
        "print(combined_data.head())\n",
        "combined_data.to_csv('combined_dataset_encoded.csv', index=False)"
      ]
    },
    {
      "cell_type": "markdown",
      "metadata": {
        "id": "lJQwvos8GD7v"
      },
      "source": [
        "# EDA"
      ]
    },
    {
      "cell_type": "code",
      "execution_count": 33,
      "metadata": {
        "colab": {
          "base_uri": "https://localhost:8080/",
          "height": 0
        },
        "id": "Gxbr71bADigT",
        "outputId": "162a5365-d767-4e30-8020-fdef3ba0d979"
      },
      "outputs": [
        {
          "name": "stdout",
          "output_type": "stream",
          "text": [
            "          fdc_id  data_type  food_category_id  gram_weight   amount\n",
            "count    62045.0    62045.0           62045.0      62045.0  62045.0\n",
            "mean   1653688.0        4.0              10.0        133.0     60.0\n",
            "std     887263.0        1.0               6.0         24.0    452.0\n",
            "min     319874.0        0.0               1.0          1.0      0.0\n",
            "25%     746908.0        4.0               5.0        133.0      0.0\n",
            "50%    2003118.0        4.0              11.0        133.0      4.0\n",
            "75%    2349534.0        4.0              14.0        133.0     60.0\n",
            "max    2687762.0        4.0              25.0       1180.0  40700.0\n"
          ]
        }
      ],
      "source": [
        "print(combined_data.describe().round(0))"
      ]
    },
    {
      "cell_type": "code",
      "execution_count": 34,
      "metadata": {
        "colab": {
          "base_uri": "https://localhost:8080/",
          "height": 2672
        },
        "id": "Y4UHMWY0GGPe",
        "outputId": "108cd7fd-8020-46d1-9b6d-e78db560c4fb"
      },
      "outputs": [
        {
          "data": {
            "image/png": "[encoded data removed]",
            "text/plain": [
              "<Figure size 800x500 with 1 Axes>"
            ]
          },
          "metadata": {},
          "output_type": "display_data"
        },
        {
          "data": {
            "image/png": "[encoded data removed]",
            "text/plain": [
              "<Figure size 800x500 with 1 Axes>"
            ]
          },
          "metadata": {},
          "output_type": "display_data"
        },
        {
          "data": {
            "image/png": "[encoded data removed]",
            "text/plain": [
              "<Figure size 1000x600 with 1 Axes>"
            ]
          },
          "metadata": {},
          "output_type": "display_data"
        },
        {
          "data": {
            "image/png": "[encoded data removed]",
            "text/plain": [
              "<Figure size 800x600 with 2 Axes>"
            ]
          },
          "metadata": {},
          "output_type": "display_data"
        },
        {
          "data": {
            "image/png": "[encoded data removed]",
            "text/plain": [
              "<Figure size 1000x600 with 1 Axes>"
            ]
          },
          "metadata": {},
          "output_type": "display_data"
        },
        {
          "data": {
            "image/png": "[encoded data removed]",
            "text/plain": [
              "<Figure size 1000x600 with 1 Axes>"
            ]
          },
          "metadata": {},
          "output_type": "display_data"
        }
      ],
      "source": [
        "import matplotlib.pyplot as plt\n",
        "import numpy as np\n",
        "import seaborn as sns\n",
        "\n",
        "#distribution analysis\n",
        "def plot_distributions(data):\n",
        "    #histograms\n",
        "    numerical_cols = ['gram_weight', 'amount']\n",
        "    for col in numerical_cols:\n",
        "        plt.figure(figsize=(8, 5))\n",
        "        sns.histplot(data[col], kde=True, bins=30)\n",
        "        plt.title(f\"Distribution of {col}\")\n",
        "        plt.show()\n",
        "\n",
        "    #count plot\n",
        "    plt.figure(figsize=(10, 6))\n",
        "    sns.countplot(y='data_type', data=data, order=data['data_type'].value_counts().index)\n",
        "    plt.title(\"Count of Data Types\")\n",
        "    legend_labels = [\n",
        "        \"0=agricultural_acquisition\",\n",
        "        \"1=foundation_food\",\n",
        "        \"2=market_acquisition\",\n",
        "        \"3=sample_food\",\n",
        "        \"4=sub_sample_food\"\n",
        "    ]\n",
        "    handles = [plt.Line2D([0], [0], marker='o', color='w', markerfacecolor='gray', markersize=10) for _ in legend_labels]\n",
        "    plt.legend(handles, legend_labels, title=\"Legend\", loc=\"lower right\", fontsize=10)\n",
        "    plt.show()\n",
        "\n",
        "plot_distributions(combined_data)\n",
        "\n",
        "# Correlation Analysis\n",
        "def correlation_analysis(combined_data):\n",
        "    numerical_cols = ['gram_weight', 'amount', 'food_category_id']\n",
        "    corr_matrix = combined_data[numerical_cols].corr()\n",
        "    plt.figure(figsize=(8, 6))\n",
        "    sns.heatmap(corr_matrix, annot=True, cmap='coolwarm', fmt='.2f')\n",
        "    plt.title(\"Correlation Matrix\")\n",
        "    plt.show()\n",
        "\n",
        "correlation_analysis(combined_data)\n",
        "\n",
        "# Grouped Insights\n",
        "def grouped_insights(data):\n",
        "    grouped = data.groupby('food_category_id').agg(\n",
        "        mean_gram_weight=('gram_weight', 'mean'),\n",
        "        mean_amount=('amount', 'mean'),\n",
        "        count=('food_category_id', 'count')\n",
        "    ).reset_index()\n",
        "\n",
        "    plt.figure(figsize=(10, 6))\n",
        "    ax = sns.barplot(\n",
        "        x='food_category_id', y='mean_gram_weight', data=grouped.sort_values('mean_gram_weight', ascending=False)\n",
        "    )\n",
        "    plt.title(\"Mean Gram Weight by Food Category\")\n",
        "    for p in ax.patches:\n",
        "        plt.text(p.get_x() + p.get_width() / 2, p.get_height(), f'{p.get_height():.2f}', ha='center', va='bottom')\n",
        "    plt.show()\n",
        "\n",
        "    plt.figure(figsize=(10, 6))\n",
        "    ax = sns.barplot(\n",
        "        x='food_category_id', y='count', data=grouped.sort_values('count', ascending=False)\n",
        "    )\n",
        "    plt.title(\"Count by Food Category\")\n",
        "    for p in ax.patches:\n",
        "        plt.text(p.get_x() + p.get_width() / 2, p.get_height(), int(p.get_height()), ha='center', va='bottom')\n",
        "    plt.show()\n",
        "\n",
        "\n",
        "grouped_insights(combined_data)"
      ]
    },
    {
      "cell_type": "markdown",
      "metadata": {
        "id": "OU4TONiAJva7"
      },
      "source": [
        "# **Data Pre-Processing**"
      ]
    },
    {
      "cell_type": "code",
      "execution_count": 35,
      "metadata": {
        "id": "1PI2Rt4mR-_5"
      },
      "outputs": [],
      "source": [
        "from sklearn.model_selection import train_test_split\n",
        "from sklearn.neighbors import KNeighborsRegressor\n",
        "from sklearn.tree import DecisionTreeRegressor\n",
        "from sklearn.ensemble import RandomForestRegressor\n",
        "from sklearn.svm import SVR\n",
        "from sklearn.preprocessing import StandardScaler\n",
        "import pandas as pd\n",
        "\n",
        "# Load the dataset\n",
        "combined_data = pd.read_csv('combined_dataset_encoded.csv')\n",
        "\n",
        "#assign target features\n",
        "X = combined_data.drop('food_category_id', axis=1)\n",
        "y = combined_data['food_category_id']\n"
      ]
    },
    {
      "cell_type": "code",
      "execution_count": 36,
      "metadata": {
        "id": "eaC6keVHVQe4"
      },
      "outputs": [],
      "source": [
        "# Split into train and test sets (80% train, 20% test) (Data partitioning)\n",
        "X_train, X_test, y_train, y_test = train_test_split(X, y, test_size=0.2, random_state=42)"
      ]
    },
    {
      "cell_type": "code",
      "execution_count": 37,
      "metadata": {
        "id": "r3kPOMiTVW01"
      },
      "outputs": [],
      "source": [
        "# Preprocessing for numerical features (standardize)\n",
        "numeric_features = X.select_dtypes(include=['float64', 'int64']).columns\n",
        "numeric_transformer = StandardScaler()"
      ]
    },
    {
      "cell_type": "code",
      "execution_count": 38,
      "metadata": {
        "id": "MB0_b7s-ZaKa"
      },
      "outputs": [],
      "source": [
        "# Standardize the features\n",
        "\n",
        "# Select only numerical features for scaling\n",
        "numerical_features = X_train.select_dtypes(include=['number']).columns\n",
        "X_train_numerical = X_train[numerical_features]\n",
        "X_test_numerical = X_test[numerical_features]\n",
        "\n",
        "\n",
        "scaler = StandardScaler()\n",
        "X_train_scaled = scaler.fit_transform(X_train_numerical) # Fit and transform on numerical data\n",
        "X_test_scaled = scaler.transform(X_test_numerical)     # Transform test data using the same scaler"
      ]
    },
    {
      "cell_type": "markdown",
      "metadata": {
        "id": "VQvV8U3vR_iy"
      },
      "source": [
        "# Model Training"
      ]
    },
    {
      "cell_type": "markdown",
      "metadata": {
        "id": "wUK2dD5eVtNA"
      },
      "source": [
        "# Decision Tree"
      ]
    },
    {
      "cell_type": "code",
      "execution_count": 39,
      "metadata": {
        "colab": {
          "base_uri": "https://localhost:8080/",
          "height": 828
        },
        "id": "GLSbBtA1Vv8g",
        "outputId": "d86469db-c6c0-4176-8f4b-f879144b5260"
      },
      "outputs": [
        {
          "data": {
            "image/png": "[encoded data removed]",
            "text/plain": [
              "<Figure size 2000x1000 with 1 Axes>"
            ]
          },
          "metadata": {},
          "output_type": "display_data"
        },
        {
          "name": "stdout",
          "output_type": "stream",
          "text": [
            "accuracy: 0.31396567007816906\n",
            "Mean Squared Error (MSE): 75.4060\n",
            "Root Mean Squared Error (RMSE): 8.6837\n",
            "Mean Absolute Error (MAE): 6.2528\n",
            "R-Squared (R2):-1.3263\n"
          ]
        }
      ],
      "source": [
        "import pandas as pd\n",
        "import numpy as np\n",
        "from sklearn.tree import DecisionTreeClassifier, plot_tree\n",
        "import matplotlib.pyplot as plt\n",
        "from sklearn.metrics import mean_squared_error, mean_absolute_error, r2_score, accuracy_score\n",
        "\n",
        "\n",
        "#build and train decision tree\n",
        "clf = DecisionTreeClassifier(random_state=42, max_depth=3, min_samples_split=10, min_samples_leaf=4)\n",
        "clf.fit(X_train, y_train)\n",
        "\n",
        "#visualize\n",
        "plt.figure(figsize=(20, 10))\n",
        "plot_tree(clf, feature_names=X.columns, class_names=[str(cls) for cls in clf.classes_], filled=True, fontsize=8)\n",
        "plt.title(\"Decision Tree Visualization\")\n",
        "plt.show()\n",
        "\n",
        "#prediction\n",
        "y_pred = clf.predict(X_test)\n",
        "accuracy = accuracy_score(y_test, y_pred)\n",
        "print(\"accuracy:\", accuracy)\n",
        "\n",
        "#calculate evaluation metrics\n",
        "mse = mean_squared_error(y_test, y_pred)\n",
        "rmse = np.sqrt(mse)\n",
        "mae = mean_absolute_error(y_test, y_pred)\n",
        "r2 = r2_score(y_test, y_pred)\n",
        "\n",
        "print(f\"Mean Squared Error (MSE): {mse:.4f}\")\n",
        "print(f\"Root Mean Squared Error (RMSE): {rmse:.4f}\")\n",
        "print(f\"Mean Absolute Error (MAE): {mae:.4f}\")\n",
        "print(f\"R-Squared (R2):{r2:.4f}\")"
      ]
    },
    {
      "cell_type": "markdown",
      "metadata": {
        "id": "fLIFouLIZz3c"
      },
      "source": [
        "#  K-NEAREST NEIGHBOUR (KNN)"
      ]
    },
    {
      "cell_type": "markdown",
      "metadata": {
        "id": "4h8ZvE1KERO6"
      },
      "source": [
        "Fitting the pipeline using Knn"
      ]
    },
    {
      "cell_type": "code",
      "execution_count": 40,
      "metadata": {
        "colab": {
          "base_uri": "https://localhost:8080/",
          "height": 0
        },
        "id": "w0jH04Fy3fYW",
        "outputId": "669e8ca5-8cc4-4fea-cc9b-f2eb36f6f0d4"
      },
      "outputs": [
        {
          "name": "stdout",
          "output_type": "stream",
          "text": [
            "Fitting 5 folds for each of 39 candidates, totalling 195 fits\n",
            "{'n_neighbors': 1}\n"
          ]
        }
      ],
      "source": [
        "from sklearn.model_selection import train_test_split\n",
        "from sklearn.neighbors import KNeighborsClassifier\n",
        "from sklearn.preprocessing import StandardScaler, OneHotEncoder\n",
        "from sklearn.compose import ColumnTransformer\n",
        "from sklearn.pipeline import Pipeline\n",
        "from sklearn.model_selection import GridSearchCV\n",
        "#GridSearchCV\n",
        "knn = KNeighborsClassifier()\n",
        "k_range = list(range(1, 40))\n",
        "param_grid = dict(n_neighbors=k_range)\n",
        "# defining parameter range\n",
        "grid = GridSearchCV(knn, param_grid, cv=5, scoring='accuracy',\n",
        "                    return_train_score=False,verbose=1)\n",
        "\n",
        "# fitting the model for grid search\n",
        "grid_search=grid.fit(X_train, y_train)\n",
        "print(grid_search.best_params_)"
      ]
    },
    {
      "cell_type": "code",
      "execution_count": 41,
      "metadata": {
        "colab": {
          "base_uri": "https://localhost:8080/",
          "height": 0
        },
        "id": "SmRwC8X9jE2Z",
        "outputId": "f5b8d438-4c36-41fd-d09f-6257e592435c"
      },
      "outputs": [
        {
          "name": "stdout",
          "output_type": "stream",
          "text": [
            "Model test Score: 0.866,  Model training Score: 0.921\n",
            "Accuracy Score: 0.8661\n",
            "Mean Squared Error (MSE): 7.7604\n",
            "Root Mean Squared Error (RMSE): 2.7858\n",
            "Mean Absolute Error (MAE): 0.8427\n",
            "R-squared (R2): 0.7606\n"
          ]
        }
      ],
      "source": [
        "from sklearn.pipeline import make_pipeline\n",
        "from sklearn.metrics import mean_squared_error, mean_absolute_error, r2_score, accuracy_score\n",
        "import numpy as np\n",
        "\n",
        "# Pipeline Estimator\n",
        "pipeline = make_pipeline(StandardScaler(),\n",
        "                         KNeighborsClassifier(n_neighbors=4, metric='euclidean'))\n",
        "\n",
        "# Fit the model\n",
        "pipeline.fit(X_train, y_train)\n",
        "knn_pred = pipeline.predict(X_test)\n",
        "\n",
        "# Model scores on test and training data\n",
        "print('Model test Score: %.3f, ' % pipeline.score(X_test, y_test),\n",
        "      'Model training Score: %.3f' % pipeline.score(X_train, y_train))\n",
        "\n",
        "# Calculate accuracy score\n",
        "accuracy = accuracy_score(y_test, knn_pred)\n",
        "\n",
        "# Evaluation metrics\n",
        "mse = mean_squared_error(y_test, knn_pred)\n",
        "rmse = np.sqrt(mse)\n",
        "mae = mean_absolute_error(y_test, knn_pred)\n",
        "r2 = r2_score(y_test, knn_pred)\n",
        "\n",
        "# Print evaluation metrics\n",
        "print('Accuracy Score: %.4f' % accuracy)\n",
        "print('Mean Squared Error (MSE): %.4f' % mse)\n",
        "print('Root Mean Squared Error (RMSE): %.4f' % rmse)\n",
        "print('Mean Absolute Error (MAE): %.4f' % mae)\n",
        "print('R-squared (R2): %.4f' % r2)"
      ]
    },
    {
      "cell_type": "markdown",
      "metadata": {
        "id": "UJP3hOaWcq-p"
      },
      "source": [
        "# **RANDOM FOREST**"
      ]
    },
    {
      "cell_type": "code",
      "execution_count": 42,
      "metadata": {
        "colab": {
          "base_uri": "https://localhost:8080/",
          "height": 0
        },
        "id": "9v1NJol2crk9",
        "outputId": "efaeea89-1466-42c1-abde-26953900f8f2"
      },
      "outputs": [
        {
          "name": "stdout",
          "output_type": "stream",
          "text": [
            "Model test Score: 0.972,  Model training Score: 0.995\n",
            "\n",
            "Random Forest Model Performance:\n",
            "Accuracy: 0.9723\n",
            "Classification Report:\n",
            "              precision    recall  f1-score   support\n",
            "\n",
            "         1.0       0.99      1.00      0.99      2097\n",
            "         2.0       0.96      1.00      0.98        80\n",
            "         4.0       1.00      0.99      1.00       570\n",
            "         5.0       0.97      0.97      0.97       418\n",
            "         6.0       0.99      1.00      1.00       111\n",
            "         7.0       0.96      0.97      0.97       157\n",
            "         9.0       0.98      0.99      0.99      1635\n",
            "        10.0       0.97      0.90      0.93       223\n",
            "        11.0       0.99      0.98      0.98      2637\n",
            "        12.0       0.96      0.99      0.97       809\n",
            "        13.0       0.93      0.98      0.96       271\n",
            "        14.0       0.86      0.88      0.87       603\n",
            "        15.0       1.00      1.00      1.00       416\n",
            "        16.0       0.94      0.91      0.92      1327\n",
            "        18.0       1.00      0.97      0.98        99\n",
            "        19.0       1.00      0.78      0.88         9\n",
            "        20.0       0.98      0.98      0.98       838\n",
            "        25.0       0.99      1.00      1.00       109\n",
            "\n",
            "    accuracy                           0.97     12409\n",
            "   macro avg       0.97      0.96      0.96     12409\n",
            "weighted avg       0.97      0.97      0.97     12409\n",
            "\n",
            "\n",
            "Error Metrics for Random Forest Classifier:\n",
            "Mean Squared Error (MSE): 0.6538\n",
            "Mean Absolute Error (MAE): 0.1058\n",
            "Root Mean Squared Error (RMSE): 0.8086\n",
            "R-squared (R2): 0.9798\n"
          ]
        }
      ],
      "source": [
        "from sklearn.model_selection import train_test_split\n",
        "from sklearn.ensemble import RandomForestClassifier\n",
        "from sklearn.metrics import classification_report, confusion_matrix, accuracy_score, mean_squared_error, mean_absolute_error, r2_score\n",
        "import matplotlib.pyplot as plt\n",
        "import numpy as np\n",
        "\n",
        "# Create a Random Forest classifier\n",
        "rf_model = RandomForestClassifier(n_estimators=50, max_depth=20, random_state=42)\n",
        "\n",
        "# Train the model on the training data\n",
        "rf_model.fit(X_train_scaled, y_train)\n",
        "\n",
        "# Model scores on test and training data\n",
        "print('Model test Score: %.3f, ' %rf_model.score(X_test_scaled, y_test),\n",
        "      'Model training Score: %.3f' %rf_model.score(X_train_scaled, y_train))\n",
        "\n",
        "# Evaluate the Random Forest model\n",
        "y_pred_rf = rf_model.predict(X_test_scaled)\n",
        "print(\"\\nRandom Forest Model Performance:\")\n",
        "print(f\"Accuracy: {accuracy_score(y_test, y_pred_rf):.4f}\")\n",
        "print(\"Classification Report:\")\n",
        "print(classification_report(y_test, y_pred_rf))\n",
        "\n",
        "# Calculate MSE, MAE, RMSE for classification labels\n",
        "mse = mean_squared_error(y_test, y_pred_rf)\n",
        "mae = mean_absolute_error(y_test, y_pred_rf)\n",
        "rmse = np.sqrt(mse)\n",
        "\n",
        "# Calculate R-squared\n",
        "r2 = r2_score(y_test, y_pred_rf)\n",
        "\n",
        "# Print the error metrics\n",
        "print(\"\\nError Metrics for Random Forest Classifier:\")\n",
        "print(f\"Mean Squared Error (MSE): {mse:.4f}\")\n",
        "print(f\"Mean Absolute Error (MAE): {mae:.4f}\")\n",
        "print(f\"Root Mean Squared Error (RMSE): {rmse:.4f}\")\n",
        "print(f\"R-squared (R2): {r2:.4f}\")\n"
      ]
    },
    {
      "cell_type": "markdown",
      "metadata": {
        "id": "l4U8XnPBt1xG"
      },
      "source": [
        "# **XGBOOST**"
      ]
    },
    {
      "cell_type": "code",
      "execution_count": 43,
      "metadata": {
        "colab": {
          "base_uri": "https://localhost:8080/",
          "height": 0
        },
        "id": "jV5GTkJ62IpI",
        "outputId": "d497bbf8-f120-4d84-93d2-85db077fc66f"
      },
      "outputs": [
        {
          "name": "stdout",
          "output_type": "stream",
          "text": [
            "Accuracy: 0.9176883753792444\n",
            "Classification Report:\n",
            "               precision    recall  f1-score   support\n",
            "\n",
            "         1.0       0.89      0.93      0.91      2638\n",
            "         2.0       0.98      0.99      0.98      2649\n",
            "         4.0       0.94      0.97      0.95      2616\n",
            "         5.0       0.94      0.86      0.89      2700\n",
            "         6.0       0.99      0.98      0.98      2635\n",
            "         7.0       0.92      0.96      0.94      2680\n",
            "         9.0       0.87      0.85      0.86      2697\n",
            "        10.0       0.91      0.85      0.88      2554\n",
            "        11.0       0.89      0.77      0.82      2686\n",
            "        12.0       0.87      0.93      0.90      2730\n",
            "        13.0       0.82      0.95      0.88      2666\n",
            "        14.0       0.79      0.95      0.86      2757\n",
            "        15.0       1.00      1.00      1.00      2623\n",
            "        16.0       0.89      0.65      0.75      2665\n",
            "        18.0       0.98      0.98      0.98      2758\n",
            "        19.0       0.99      0.99      0.99      2737\n",
            "        20.0       0.91      0.94      0.93      2648\n",
            "        25.0       0.99      0.99      0.99      2683\n",
            "\n",
            "    accuracy                           0.92     48122\n",
            "   macro avg       0.92      0.92      0.92     48122\n",
            "weighted avg       0.92      0.92      0.92     48122\n",
            "\n",
            "Confusion Matrix:\n",
            " [[2457    1   36    0    0    4   42    0   24    7    1    0    0    8\n",
            "     0    0   58    0]\n",
            " [   0 2619    0    0    1    0   12    0    2    0   15    0    0    0\n",
            "     0    0    0    0]\n",
            " [  22    0 2527   15    0    0   34    0   18    0    0    0    0    0\n",
            "     0    0    0    0]\n",
            " [   0    0    0 2309   21    0    0  128    0    0  242    0    0    0\n",
            "     0    0    0    0]\n",
            " [   8    0    0    3 2578   46    0    0    0    0    0    0    0    0\n",
            "     0    0    0    0]\n",
            " [  13    0    0    0   10 2573    6    0   11   12    0    0    0   11\n",
            "    43    1    0    0]\n",
            " [  56   28   38    0    0   51 2280    0   91   71    0    9    0    9\n",
            "     0    0   64    0]\n",
            " [   2    0    0   97    0    0    0 2160    0    0  279    0    0    0\n",
            "     0    0   16    0]\n",
            " [ 131   25   54    0    0   12  167    0 2055   98    8   12    6   34\n",
            "    23    0   61    0]\n",
            " [  31    0    0    0    0   61    1    0   27 2536    0    0    0   54\n",
            "     0    0   20    0]\n",
            " [   2    3    0   40    0    0    0   94    3    0 2522    0    0    0\n",
            "     1    0    0    1]\n",
            " [   0    0   26    0    0    0    0    0   19    0    0 2613    0   99\n",
            "     0    0    0    0]\n",
            " [   0    0    0    0    0    0    0    0    2    0    0    0 2614    0\n",
            "     0    7    0    0]\n",
            " [  36    0    5    0    0    4   35    0   60   99    0  669    0 1736\n",
            "     0    0   21    0]\n",
            " [   0    0    0    0    0   44    0    0    0    0   12    0    0    0\n",
            "  2702    0    0    0]\n",
            " [   0    0    0    0    0    1    0    0    0    0    0    0    0    0\n",
            "     0 2718    0   18]\n",
            " [  16    0    0    0    0    0   36    0    4   88    0    0    0    4\n",
            "     0    0 2500    0]\n",
            " [   0    0    0    0    0    0    0    0    0    0    2    0    0    0\n",
            "     0   19    0 2662]]\n",
            "Mean Squared Error (MSE): 2.4878\n",
            "Root Mean Squared Error (RMSE): 1.5773\n",
            "Mean Absolute Error (MAE): 0.3735\n",
            "R-squared (R2): 0.9074\n"
          ]
        }
      ],
      "source": [
        "from imblearn.over_sampling import SMOTE\n",
        "from xgboost import XGBClassifier\n",
        "from sklearn.metrics import accuracy_score, classification_report, confusion_matrix, mean_squared_error, mean_absolute_error, r2_score\n",
        "import pandas as pd\n",
        "from sklearn.model_selection import train_test_split\n",
        "\n",
        "# Map target classes to integers starting from 0\n",
        "class_mapping = {label: idx for idx, label in enumerate(sorted(y.unique()))}\n",
        "inverse_class_mapping = {idx: label for label, idx in class_mapping.items()}\n",
        "\n",
        "# Remap y using the class_mapping\n",
        "y_mapped = y.map(class_mapping)\n",
        "\n",
        "# Address class imbalance with SMOTE\n",
        "smote = SMOTE(random_state=42)  # Instantiate SMOTE object\n",
        "X_resampled, y_resampled = smote.fit_resample(X, y_mapped)\n",
        "\n",
        "# Split the data into training and testing sets\n",
        "X_train, X_test, y_train, y_test = train_test_split(X_resampled, y_resampled, test_size=0.2, random_state=42)\n",
        "\n",
        "# Initialize and train the XGBoost classifier\n",
        "xgb_model = XGBClassifier(\n",
        "    n_estimators=200,\n",
        "    max_depth=6,\n",
        "    learning_rate=0.1,\n",
        "    objective='multi:softmax',\n",
        "    num_class=len(class_mapping),  # Use the number of unique classes\n",
        "    random_state=42\n",
        ")\n",
        "xgb_model.fit(X_train, y_train)\n",
        "\n",
        "# Make predictions and map back to original labels\n",
        "y_pred = xgb_model.predict(X_test)\n",
        "y_pred_original = pd.Series(y_pred).map(inverse_class_mapping)\n",
        "y_test_original = pd.Series(y_test).map(inverse_class_mapping)\n",
        "\n",
        "# Evaluate the model\n",
        "accuracy = accuracy_score(y_test_original, y_pred_original)\n",
        "classification_rep = classification_report(y_test_original, y_pred_original)\n",
        "conf_matrix = confusion_matrix(y_test_original, y_pred_original)\n",
        "\n",
        "# Print accuracy and classification report\n",
        "print(f\"Accuracy: {accuracy}\")\n",
        "print(\"Classification Report:\\n\", classification_rep)\n",
        "print(\"Confusion Matrix:\\n\", conf_matrix)\n",
        "\n",
        "# Calculate regression metrics (treating class labels as numerical values)\n",
        "mse = mean_squared_error(y_test, y_pred)\n",
        "rmse = np.sqrt(mean_squared_error(y_test, y_pred))\n",
        "mae = mean_absolute_error(y_test, y_pred)\n",
        "r2 = r2_score(y_test, y_pred)\n",
        "\n",
        "# Print regression metrics\n",
        "print('Mean Squared Error (MSE): %.4f' % mse)\n",
        "print('Root Mean Squared Error (RMSE): %.4f' % rmse)\n",
        "print('Mean Absolute Error (MAE): %.4f' % mae)\n",
        "print('R-squared (R2): %.4f' % r2)"
      ]
    },
    {
      "cell_type": "markdown",
      "metadata": {
        "id": "WiLjhz4Ylj3v"
      },
      "source": [
        "# **SVM**"
      ]
    },
    {
      "cell_type": "code",
      "execution_count": 45,
      "metadata": {
        "colab": {
          "base_uri": "https://localhost:8080/",
          "height": 0
        },
        "id": "CROC2wejlxWH",
        "outputId": "5c7cc813-3b48-447c-9f01-bc1e15a8bcf0"
      },
      "outputs": [
        {
          "name": "stdout",
          "output_type": "stream",
          "text": [
            "Model Accuracy: 0.3360\n",
            "Mean Squared Error: 42.5323\n",
            "Mean Absolute Error: 4.3917\n",
            "Root Mean Squared Error: 6.5217\n",
            "R-squared (R2): -0.3121\n"
          ]
        }
      ],
      "source": [
        "from sklearn.svm import SVC\n",
        "from sklearn.metrics import accuracy_score, mean_squared_error, mean_absolute_error, r2_score\n",
        "from sklearn.compose import ColumnTransformer\n",
        "from sklearn.preprocessing import StandardScaler, OneHotEncoder\n",
        "from sklearn.pipeline import Pipeline\n",
        "from sklearn.model_selection import train_test_split\n",
        "import numpy as np\n",
        "\n",
        "# Identify categorical and numerical columns\n",
        "categorical_cols = X.select_dtypes(include=['object']).columns\n",
        "numerical_cols = X.select_dtypes(include=['int64', 'float64']).columns\n",
        "\n",
        "# Preprocessing pipeline\n",
        "preprocessor = ColumnTransformer(\n",
        "    transformers=[\n",
        "        ('num', StandardScaler(), numerical_cols),\n",
        "        ('cat', OneHotEncoder(handle_unknown='ignore'), categorical_cols)\n",
        "    ]\n",
        ")\n",
        "\n",
        "# Create a pipeline with SVM for classification\n",
        "pipeline = Pipeline(steps=[\n",
        "    ('preprocessor', preprocessor),\n",
        "    ('svm', SVC(kernel='rbf', C=1.0, probability=True, random_state=42))\n",
        "])\n",
        "\n",
        "# Split the data into train and test sets\n",
        "X_train, X_test, y_train, y_test = train_test_split(X, y, test_size=0.2, random_state=42)\n",
        "\n",
        "# Train the model\n",
        "pipeline.fit(X_train, y_train)\n",
        "\n",
        "# Make predictions\n",
        "y_pred = pipeline.predict(X_test)\n",
        "\n",
        "# Evaluate the model\n",
        "accuracy = accuracy_score(y_test, y_pred)\n",
        "print(f\"Model Accuracy: {accuracy:.4f}\")\n",
        "\n",
        "\n",
        "# Calculate mean squared error\n",
        "mse = mean_squared_error(y_test, y_pred)\n",
        "print(f\"Mean Squared Error: {mse:.4f}\")\n",
        "# Calculate mean absolute error\n",
        "mae = mean_absolute_error(y_test, y_pred)\n",
        "print(f\"Mean Absolute Error: {mae:.4f}\")\n",
        "# Calculate root mean squared error\n",
        "rmse = np.sqrt(mse)\n",
        "print(f\"Root Mean Squared Error: {rmse:.4f}\")\n",
        "# Calculate R-squared (R2) for regression tasks\n",
        "r2 = r2_score(y_test, y_pred)\n",
        "print(f\"R-squared (R2): {r2:.4f}\")\n",
        "\n",
        "\n"
      ]
    },
    {
      "cell_type": "markdown",
      "metadata": {
        "id": "N5JtKfffoG9y"
      },
      "source": [
        "# **Recommendation System**"
      ]
    },
    {
      "cell_type": "code",
      "execution_count": 47,
      "metadata": {
        "colab": {
          "base_uri": "https://localhost:8080/",
          "height": 2277
        },
        "id": "70Pe8a1chrp5",
        "outputId": "8c44def5-db01-466a-f63b-7385e09ceaa5"
      },
      "outputs": [
        {
          "name": "stdout",
          "output_type": "stream",
          "text": [
            "Collecting gradio\n",
            "  Downloading gradio-5.12.0-py3-none-any.whl.metadata (16 kB)\n",
            "Collecting aiofiles<24.0,>=22.0 (from gradio)\n",
            "  Downloading aiofiles-23.2.1-py3-none-any.whl.metadata (9.7 kB)\n",
            "Requirement already satisfied: anyio<5.0,>=3.0 in /usr/local/lib/python3.10/dist-packages (from gradio) (3.7.1)\n",
            "Collecting fastapi<1.0,>=0.115.2 (from gradio)\n",
            "  Downloading fastapi-0.115.6-py3-none-any.whl.metadata (27 kB)\n",
            "Collecting ffmpy (from gradio)\n",
            "  Downloading ffmpy-0.5.0-py3-none-any.whl.metadata (3.0 kB)\n",
            "Collecting gradio-client==1.5.4 (from gradio)\n",
            "  Downloading gradio_client-1.5.4-py3-none-any.whl.metadata (7.1 kB)\n",
            "Requirement already satisfied: httpx>=0.24.1 in /usr/local/lib/python3.10/dist-packages (from gradio) (0.28.1)\n",
            "Requirement already satisfied: huggingface-hub>=0.25.1 in /usr/local/lib/python3.10/dist-packages (from gradio) (0.27.1)\n",
            "Requirement already satisfied: jinja2<4.0 in /usr/local/lib/python3.10/dist-packages (from gradio) (3.1.5)\n",
            "Collecting markupsafe~=2.0 (from gradio)\n",
            "  Downloading MarkupSafe-2.1.5-cp310-cp310-manylinux_2_17_x86_64.manylinux2014_x86_64.whl.metadata (3.0 kB)\n",
            "Requirement already satisfied: numpy<3.0,>=1.0 in /usr/local/lib/python3.10/dist-packages (from gradio) (1.26.4)\n",
            "Requirement already satisfied: orjson~=3.0 in /usr/local/lib/python3.10/dist-packages (from gradio) (3.10.13)\n",
            "Requirement already satisfied: packaging in /usr/local/lib/python3.10/dist-packages (from gradio) (24.2)\n",
            "Requirement already satisfied: pandas<3.0,>=1.0 in /usr/local/lib/python3.10/dist-packages (from gradio) (2.2.2)\n",
            "Requirement already satisfied: pillow<12.0,>=8.0 in /usr/local/lib/python3.10/dist-packages (from gradio) (11.1.0)\n",
            "Requirement already satisfied: pydantic>=2.0 in /usr/local/lib/python3.10/dist-packages (from gradio) (2.10.4)\n",
            "Collecting pydub (from gradio)\n",
            "  Downloading pydub-0.25.1-py2.py3-none-any.whl.metadata (1.4 kB)\n",
            "Collecting python-multipart>=0.0.18 (from gradio)\n",
            "  Downloading python_multipart-0.0.20-py3-none-any.whl.metadata (1.8 kB)\n",
            "Requirement already satisfied: pyyaml<7.0,>=5.0 in /usr/local/lib/python3.10/dist-packages (from gradio) (6.0.2)\n",
            "Collecting ruff>=0.2.2 (from gradio)\n",
            "  Downloading ruff-0.9.1-py3-none-manylinux_2_17_x86_64.manylinux2014_x86_64.whl.metadata (25 kB)\n",
            "Collecting safehttpx<0.2.0,>=0.1.6 (from gradio)\n",
            "  Downloading safehttpx-0.1.6-py3-none-any.whl.metadata (4.2 kB)\n",
            "Collecting semantic-version~=2.0 (from gradio)\n",
            "  Downloading semantic_version-2.10.0-py2.py3-none-any.whl.metadata (9.7 kB)\n",
            "Collecting starlette<1.0,>=0.40.0 (from gradio)\n",
            "  Downloading starlette-0.45.2-py3-none-any.whl.metadata (6.3 kB)\n",
            "Collecting tomlkit<0.14.0,>=0.12.0 (from gradio)\n",
            "  Downloading tomlkit-0.13.2-py3-none-any.whl.metadata (2.7 kB)\n",
            "Requirement already satisfied: typer<1.0,>=0.12 in /usr/local/lib/python3.10/dist-packages (from gradio) (0.15.1)\n",
            "Requirement already satisfied: typing-extensions~=4.0 in /usr/local/lib/python3.10/dist-packages (from gradio) (4.12.2)\n",
            "Collecting uvicorn>=0.14.0 (from gradio)\n",
            "  Downloading uvicorn-0.34.0-py3-none-any.whl.metadata (6.5 kB)\n",
            "Requirement already satisfied: fsspec in /usr/local/lib/python3.10/dist-packages (from gradio-client==1.5.4->gradio) (2024.10.0)\n",
            "Requirement already satisfied: websockets<15.0,>=10.0 in /usr/local/lib/python3.10/dist-packages (from gradio-client==1.5.4->gradio) (14.1)\n",
            "Requirement already satisfied: idna>=2.8 in /usr/local/lib/python3.10/dist-packages (from anyio<5.0,>=3.0->gradio) (3.10)\n",
            "Requirement already satisfied: sniffio>=1.1 in /usr/local/lib/python3.10/dist-packages (from anyio<5.0,>=3.0->gradio) (1.3.1)\n",
            "Requirement already satisfied: exceptiongroup in /usr/local/lib/python3.10/dist-packages (from anyio<5.0,>=3.0->gradio) (1.2.2)\n",
            "Collecting starlette<1.0,>=0.40.0 (from gradio)\n",
            "  Downloading starlette-0.41.3-py3-none-any.whl.metadata (6.0 kB)\n",
            "Requirement already satisfied: certifi in /usr/local/lib/python3.10/dist-packages (from httpx>=0.24.1->gradio) (2024.12.14)\n",
            "Requirement already satisfied: httpcore==1.* in /usr/local/lib/python3.10/dist-packages (from httpx>=0.24.1->gradio) (1.0.7)\n",
            "Requirement already satisfied: h11<0.15,>=0.13 in /usr/local/lib/python3.10/dist-packages (from httpcore==1.*->httpx>=0.24.1->gradio) (0.14.0)\n",
            "Requirement already satisfied: filelock in /usr/local/lib/python3.10/dist-packages (from huggingface-hub>=0.25.1->gradio) (3.16.1)\n",
            "Requirement already satisfied: requests in /usr/local/lib/python3.10/dist-packages (from huggingface-hub>=0.25.1->gradio) (2.32.3)\n",
            "Requirement already satisfied: tqdm>=4.42.1 in /usr/local/lib/python3.10/dist-packages (from huggingface-hub>=0.25.1->gradio) (4.67.1)\n",
            "Requirement already satisfied: python-dateutil>=2.8.2 in /usr/local/lib/python3.10/dist-packages (from pandas<3.0,>=1.0->gradio) (2.8.2)\n",
            "Requirement already satisfied: pytz>=2020.1 in /usr/local/lib/python3.10/dist-packages (from pandas<3.0,>=1.0->gradio) (2024.2)\n",
            "Requirement already satisfied: tzdata>=2022.7 in /usr/local/lib/python3.10/dist-packages (from pandas<3.0,>=1.0->gradio) (2024.2)\n",
            "Requirement already satisfied: annotated-types>=0.6.0 in /usr/local/lib/python3.10/dist-packages (from pydantic>=2.0->gradio) (0.7.0)\n",
            "Requirement already satisfied: pydantic-core==2.27.2 in /usr/local/lib/python3.10/dist-packages (from pydantic>=2.0->gradio) (2.27.2)\n",
            "Requirement already satisfied: click>=8.0.0 in /usr/local/lib/python3.10/dist-packages (from typer<1.0,>=0.12->gradio) (8.1.8)\n",
            "Requirement already satisfied: shellingham>=1.3.0 in /usr/local/lib/python3.10/dist-packages (from typer<1.0,>=0.12->gradio) (1.5.4)\n",
            "Requirement already satisfied: rich>=10.11.0 in /usr/local/lib/python3.10/dist-packages (from typer<1.0,>=0.12->gradio) (13.9.4)\n",
            "Requirement already satisfied: six>=1.5 in /usr/local/lib/python3.10/dist-packages (from python-dateutil>=2.8.2->pandas<3.0,>=1.0->gradio) (1.17.0)\n",
            "Requirement already satisfied: markdown-it-py>=2.2.0 in /usr/local/lib/python3.10/dist-packages (from rich>=10.11.0->typer<1.0,>=0.12->gradio) (3.0.0)\n",
            "Requirement already satisfied: pygments<3.0.0,>=2.13.0 in /usr/local/lib/python3.10/dist-packages (from rich>=10.11.0->typer<1.0,>=0.12->gradio) (2.18.0)\n",
            "Requirement already satisfied: charset-normalizer<4,>=2 in /usr/local/lib/python3.10/dist-packages (from requests->huggingface-hub>=0.25.1->gradio) (3.4.1)\n",
            "Requirement already satisfied: urllib3<3,>=1.21.1 in /usr/local/lib/python3.10/dist-packages (from requests->huggingface-hub>=0.25.1->gradio) (2.3.0)\n",
            "Requirement already satisfied: mdurl~=0.1 in /usr/local/lib/python3.10/dist-packages (from markdown-it-py>=2.2.0->rich>=10.11.0->typer<1.0,>=0.12->gradio) (0.1.2)\n",
            "Downloading gradio-5.12.0-py3-none-any.whl (57.6 MB)\n",
            "\u001b[2K   \u001b[90m━━━━━━━━━━━━━━━━━━━━━━━━━━━━━━━━━━━━━━━━\u001b[0m \u001b[32m57.6/57.6 MB\u001b[0m \u001b[31m9.3 MB/s\u001b[0m eta \u001b[36m0:00:00\u001b[0m\n",
            "\u001b[?25hDownloading gradio_client-1.5.4-py3-none-any.whl (321 kB)\n",
            "\u001b[2K   \u001b[90m━━━━━━━━━━━━━━━━━━━━━━━━━━━━━━━━━━━━━━━━\u001b[0m \u001b[32m321.4/321.4 kB\u001b[0m \u001b[31m19.0 MB/s\u001b[0m eta \u001b[36m0:00:00\u001b[0m\n",
            "\u001b[?25hDownloading aiofiles-23.2.1-py3-none-any.whl (15 kB)\n",
            "Downloading fastapi-0.115.6-py3-none-any.whl (94 kB)\n",
            "\u001b[2K   \u001b[90m━━━━━━━━━━━━━━━━━━━━━━━━━━━━━━━━━━━━━━━━\u001b[0m \u001b[32m94.8/94.8 kB\u001b[0m \u001b[31m5.8 MB/s\u001b[0m eta \u001b[36m0:00:00\u001b[0m\n",
            "\u001b[?25hDownloading MarkupSafe-2.1.5-cp310-cp310-manylinux_2_17_x86_64.manylinux2014_x86_64.whl (25 kB)\n",
            "Downloading python_multipart-0.0.20-py3-none-any.whl (24 kB)\n",
            "Downloading ruff-0.9.1-py3-none-manylinux_2_17_x86_64.manylinux2014_x86_64.whl (11.3 MB)\n",
            "\u001b[2K   \u001b[90m━━━━━━━━━━━━━━━━━━━━━━━━━━━━━━━━━━━━━━━━\u001b[0m \u001b[32m11.3/11.3 MB\u001b[0m \u001b[31m67.1 MB/s\u001b[0m eta \u001b[36m0:00:00\u001b[0m\n",
            "\u001b[?25hDownloading safehttpx-0.1.6-py3-none-any.whl (8.7 kB)\n",
            "Downloading semantic_version-2.10.0-py2.py3-none-any.whl (15 kB)\n",
            "Downloading starlette-0.41.3-py3-none-any.whl (73 kB)\n",
            "\u001b[2K   \u001b[90m━━━━━━━━━━━━━━━━━━━━━━━━━━━━━━━━━━━━━━━━\u001b[0m \u001b[32m73.2/73.2 kB\u001b[0m \u001b[31m4.6 MB/s\u001b[0m eta \u001b[36m0:00:00\u001b[0m\n",
            "\u001b[?25hDownloading tomlkit-0.13.2-py3-none-any.whl (37 kB)\n",
            "Downloading uvicorn-0.34.0-py3-none-any.whl (62 kB)\n",
            "\u001b[2K   \u001b[90m━━━━━━━━━━━━━━━━━━━━━━━━━━━━━━━━━━━━━━━━\u001b[0m \u001b[32m62.3/62.3 kB\u001b[0m \u001b[31m4.8 MB/s\u001b[0m eta \u001b[36m0:00:00\u001b[0m\n",
            "\u001b[?25hDownloading ffmpy-0.5.0-py3-none-any.whl (6.0 kB)\n",
            "Downloading pydub-0.25.1-py2.py3-none-any.whl (32 kB)\n",
            "Installing collected packages: pydub, uvicorn, tomlkit, semantic-version, ruff, python-multipart, markupsafe, ffmpy, aiofiles, starlette, safehttpx, gradio-client, fastapi, gradio\n",
            "  Attempting uninstall: markupsafe\n",
            "    Found existing installation: MarkupSafe 3.0.2\n",
            "    Uninstalling MarkupSafe-3.0.2:\n",
            "      Successfully uninstalled MarkupSafe-3.0.2\n",
            "Successfully installed aiofiles-23.2.1 fastapi-0.115.6 ffmpy-0.5.0 gradio-5.12.0 gradio-client-1.5.4 markupsafe-2.1.5 pydub-0.25.1 python-multipart-0.0.20 ruff-0.9.1 safehttpx-0.1.6 semantic-version-2.10.0 starlette-0.41.3 tomlkit-0.13.2 uvicorn-0.34.0\n",
            "Running Gradio in a Colab notebook requires sharing enabled. Automatically setting `share=True` (you can turn this off by setting `share=False` in `launch()` explicitly).\n",
            "\n",
            "Colab notebook detected. To show errors in colab notebook, set debug=True in launch()\n",
            "* Running on public URL: https://b962b984df3f7b62fe.gradio.live\n",
            "\n",
            "This share link expires in 72 hours. For free permanent hosting and GPU upgrades, run `gradio deploy` from the terminal in the working directory to deploy to Hugging Face Spaces (https://huggingface.co/spaces)\n"
          ]
        },
        {
          "data": {
            "text/html": [
              "<div><iframe src=\"https://b962b984df3f7b62fe.gradio.live\" width=\"100%\" height=\"500\" allow=\"autoplay; camera; microphone; clipboard-read; clipboard-write;\" frameborder=\"0\" allowfullscreen></iframe></div>"
            ],
            "text/plain": [
              "<IPython.core.display.HTML object>"
            ]
          },
          "metadata": {},
          "output_type": "display_data"
        },
        {
          "data": {
            "text/plain": []
          },
          "execution_count": 47,
          "metadata": {},
          "output_type": "execute_result"
        }
      ],
      "source": [
        "!pip install gradio\n",
        "import pandas as pd\n",
        "from sklearn.preprocessing import StandardScaler\n",
        "from sklearn.ensemble import RandomForestClassifier\n",
        "from sklearn.model_selection import train_test_split\n",
        "import gradio as gr\n",
        "\n",
        "# Preprocess the data\n",
        "def preprocess_data(data):\n",
        "    X = data[['amount', 'gram_weight']]  # Features for the model\n",
        "    y = data['food_category_id']  # Target variable\n",
        "    scaler = StandardScaler()\n",
        "    X_scaled = scaler.fit_transform(X)\n",
        "    return X_scaled, y, scaler\n",
        "\n",
        "# Train Random Forest model\n",
        "X_scaled, y, scaler = preprocess_data(combined_data)\n",
        "X_train, X_test, y_train, y_test = train_test_split(X_scaled, y, test_size=0.2, random_state=42)\n",
        "rf_model = RandomForestClassifier(n_estimators=50, max_depth=20, random_state=42)\n",
        "rf_model.fit(X_train, y_train)\n",
        "\n",
        "# Map food categories\n",
        "food_category_map = {\n",
        "    1: \"Dairy & Egg Products\",\n",
        "    2: \"Spices & Herbs\",\n",
        "    4: \"Fats\",\n",
        "    5: \"Baby Foods\",\n",
        "    6: \"Poultry Products\",\n",
        "    7: \"Soups\",\n",
        "    9: \"Sausage\",\n",
        "    10: \"Breakfast Cereals\",\n",
        "    11: \"Fruits & Fruit Juices\",\n",
        "    12: \"Nuts\",\n",
        "    13: \"Beef Products\",\n",
        "    14: \"Beverages\",\n",
        "    15: \"Finfish\",\n",
        "    16: \"Legumes\",\n",
        "    18: \"Baked Products\",\n",
        "    19: \"Sweets\",\n",
        "    20: \"Cereal Grains\",\n",
        "    25: \"Restaurant Foods\"\n",
        "}\n",
        "\n",
        "# Calculate daily nutrient needs based on weight, age, activity level, and goal\n",
        "def calculate_nutrient_needs(weight_kg, age, activity_level, goal):\n",
        "\n",
        "    if age < 18:\n",
        "        calories_needed = 25 * weight_kg\n",
        "    elif age < 60:\n",
        "        if activity_level == 'never':\n",
        "            calories_needed = 20 * weight_kg\n",
        "        elif activity_level == 'often':\n",
        "            calories_needed = 30 * weight_kg\n",
        "        else:\n",
        "            calories_needed = 25 * weight_kg\n",
        "    else:  # for elderly (age >= 60)\n",
        "        calories_needed = 18 * weight_kg\n",
        "\n",
        "    if goal == 'gain':\n",
        "        protein_needed = 2.0 * weight_kg\n",
        "    else:\n",
        "        protein_needed = 1.5 * weight_kg\n",
        "\n",
        "    fat_needed = 0.8 * weight_kg\n",
        "    carbs_needed = 3 * weight_kg if goal != 'lose' else 2 * weight_kg\n",
        "    return calories_needed, protein_needed, fat_needed, carbs_needed\n",
        "\n",
        "# Recommend foods using the Random Forest model\n",
        "def recommend_foods_rf(weight_kg, age, activity_level, goal):\n",
        "    # Calculate nutrient needs\n",
        "    calories_needed, protein_needed, fat_needed, carbs_needed = calculate_nutrient_needs(weight_kg, age, activity_level, goal)\n",
        "\n",
        "    # Create a feature vector based on user's needs\n",
        "    user_features = [[calories_needed, protein_needed]]\n",
        "    user_features_scaled = scaler.transform(user_features)\n",
        "\n",
        "    # Predict food categories\n",
        "    predictions = rf_model.predict(user_features_scaled)\n",
        "\n",
        "    # Filter foods based on predicted categories\n",
        "    recommended_foods = combined_data[combined_data['food_category_id'].isin(predictions)]\n",
        "    recommended_foods['food_category'] = recommended_foods['food_category_id'].map(food_category_map)\n",
        "    recommended_foods = recommended_foods[['food_category', 'amount', 'gram_weight']]\n",
        "    recommended_foods['amount'] = recommended_foods['amount'].round(4)\n",
        "    recommended_foods['gram_weight'] = recommended_foods['gram_weight'].round(4)\n",
        "\n",
        "    # Sort the foods\n",
        "    recommended_foods = recommended_foods.sort_values(by='amount', ascending=False).head(1)\n",
        "\n",
        "    return recommended_foods\n",
        "\n",
        "\n",
        "# Define Gradio interface function\n",
        "def food_recommendation_gui(weight_kg, age, goal, activity_level):\n",
        "    recommendations = recommend_foods_rf(weight_kg, age, activity_level, goal)\n",
        "    return recommendations\n",
        "\n",
        "# Create Gradio interface\n",
        "interface = gr.Interface(\n",
        "    fn=food_recommendation_gui,\n",
        "    inputs=[\n",
        "        gr.Number(label=\"Weight (kg)\", value=70),\n",
        "        gr.Number(label=\"Age (years)\", value=25),\n",
        "        gr.Radio(choices=[\"lose\", \"maintain\", \"gain\"], label=\"Goal\"),\n",
        "        gr.Radio(choices=[\"never\", \"regularly\", \"often\"], label=\"Activity Level\")\n",
        "    ],\n",
        "    outputs=gr.Dataframe(headers=[\"Food Category\", \"Nutrient Amount\", \"Weight (grams)\"]),\n",
        "    title=\"Dietary Recommendation System\",\n",
        "    description=\"Enter your weight, age, goal, and activity level to get food recommendations.\"\n",
        ")\n",
        "\n",
        "# Launch the app\n",
        "interface.launch()\n"
      ]
    }
  ],
  "metadata": {
    "colab": {
      "provenance": []
    },
    "kernelspec": {
      "display_name": "Python 3",
      "language": "python",
      "name": "python3"
    },
    "language_info": {
      "codemirror_mode": {
        "name": "ipython",
        "version": 3
      },
      "file_extension": ".py",
      "mimetype": "text/x-python",
      "name": "python",
      "nbconvert_exporter": "python",
      "pygments_lexer": "ipython3",
      "version": "3.12.0"
    }
  },
  "nbformat": 4,
  "nbformat_minor": 0
}
